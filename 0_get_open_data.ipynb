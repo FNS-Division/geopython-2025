{
  "cells": [
    {
      "cell_type": "markdown",
      "metadata": {
        "id": "SQ7gvz1jExLN"
      },
      "source": [
        "<a href=\"https://colab.research.google.com/github/FNS-Division/geopython-2025/blob/main/0_get_open_data.ipynb\" target=\"_parent\"><img src=\"https://colab.research.google.com/assets/colab-badge.svg\" alt=\"Open In Colab\"/></a>"
      ]
    },
    {
      "cell_type": "markdown",
      "metadata": {
        "id": "tC_HmFLVT_u-"
      },
      "source": [
        "# Getting open data"
      ]
    },
    {
      "cell_type": "markdown",
      "metadata": {
        "id": "0E65IxntChoC"
      },
      "source": [
        "Welcome to this hands-on session where we'll learn how to analyze infrastructure data using Python. We'll be working with real data to understand how to obtain, process and prepare different layers of infrastructure data. This tutorial will teach you how to handle geographic data, create visualizations for exploratory data analysis, and standardize infrastructure data for analysis."
      ]
    },
    {
      "cell_type": "markdown",
      "metadata": {
        "id": "y3yW5D1dC33X"
      },
      "source": [
        "## Setting up our environment\n",
        "\n",
        "We start by importing the Python libraries we'll need for our analysis:\n",
        "- geopandas and shapely: For handling geographic data and operations\n",
        "- pandas: For data manipulation and analysis\n",
        "- matplotlib and contextily: For creating visualizations and adding map backgrounds\n",
        "- osmnx: For accessing OpenStreetMap data\n",
        "- Other utility libraries for various tasks like generating UUIDs and handling country codes"
      ]
    },
    {
      "cell_type": "code",
      "execution_count": null,
      "metadata": {
        "colab": {
          "base_uri": "https://localhost:8080/"
        },
        "id": "yeGLrdaABM1C",
        "outputId": "6794f19a-a583-4cbb-8356-9ea03f13121e"
      },
      "outputs": [],
      "source": [
        "!pip install osmnx contextily summarytools pycountry s3fs"
      ]
    },
    {
      "cell_type": "code",
      "execution_count": null,
      "metadata": {
        "id": "dif-NBruSNe2"
      },
      "outputs": [],
      "source": [
        "# Standard library imports\n",
        "import os\n",
        "import math\n",
        "import gzip\n",
        "import shutil\n",
        "\n",
        "# Data manipulation and analysis\n",
        "import pandas as pd\n",
        "import numpy as np\n",
        "import uuid\n",
        "import s3fs\n",
        "\n",
        "# Geospatial libraries\n",
        "import geopandas as gpd\n",
        "import osmnx as ox\n",
        "from shapely.ops import unary_union\n",
        "import pycountry\n",
        "\n",
        "# Visualization libraries\n",
        "import matplotlib.pyplot as plt\n",
        "from matplotlib.patches import Patch\n",
        "import contextily as cx\n",
        "import folium\n",
        "\n",
        "# Interactive tools and display\n",
        "import ipywidgets as widgets\n",
        "from IPython.display import display, HTML\n",
        "from summarytools import dfSummary"
      ]
    },
    {
      "cell_type": "markdown",
      "metadata": {
        "id": "b5D1hjp1DVQC"
      },
      "source": [
        "We set `fetch_data = False` to use pre-downloaded data instead of fetching it live during the tutorial."
      ]
    },
    {
      "cell_type": "code",
      "execution_count": null,
      "metadata": {
        "id": "R9jL84DTSNe4"
      },
      "outputs": [],
      "source": [
        "fetch_data = True"
      ]
    },
    {
      "cell_type": "markdown",
      "metadata": {
        "id": "okIG6cWvSNe5"
      },
      "source": [
        "## Get country boundaries"
      ]
    },
    {
      "cell_type": "markdown",
      "metadata": {
        "id": "U8Y78rzMDhYv"
      },
      "source": [
        "Before analyzing infrastructure within our selected country, we need to define the country's boundaries. We:\n",
        "1. Load a GeoJSON file containing global UN-recognized country boundaries using geopandas\n",
        "2. Filter to get just the country boundary\n",
        "3. Calculate the country's bounding box and UTM projection zone for later use\n",
        "4. Get the ISO3 country code for standardization\n",
        "\n",
        "This boundary data will be crucial for clipping our infrastructure data and ensuring we're analyzing points within the country's borders.\n",
        "\n",
        "**We suggest working with Sao Tome and Principe, Barbados, Bahrain or Samoa.**"
      ]
    },
    {
      "cell_type": "code",
      "execution_count": null,
      "metadata": {
        "cellView": "form",
        "colab": {
          "base_uri": "https://localhost:8080/",
          "height": 49,
          "referenced_widgets": [
            "a6341ba516724459a9f776e14b2aafdb",
            "1028693f8ead4d2daf3e7b0a8688ff8e",
            "79b76c9730f6480f9ea4710fa8112a2f"
          ]
        },
        "id": "Er-EVJWLGgr2",
        "outputId": "fed0c314-4dac-42a2-e5ed-25c1a0819a40"
      },
      "outputs": [],
      "source": [
        "# @title Select country\n",
        "# Define layout\n",
        "item_layout2 = widgets.Layout(\n",
        "    width='auto',\n",
        "    min_width='20px',\n",
        "    flex='1 1',\n",
        "    display='flex',\n",
        "    flex_flow='row wrap',\n",
        "    align_items='center',\n",
        "    justify_content='space-between'\n",
        ")\n",
        "\n",
        "# Country dropdown with all countries as options\n",
        "country_widget = widgets.Dropdown(\n",
        "    description='Country:',\n",
        "    options=[country.name for country in pycountry.countries],\n",
        "    value='Sao Tome and Principe',  # Pre-selected value\n",
        "    layout=item_layout2,\n",
        "    style={'description_width': 'initial'}\n",
        ")\n",
        "\n",
        "display(country_widget)"
      ]
    },
    {
      "cell_type": "code",
      "execution_count": null,
      "metadata": {
        "id": "Pj0qy2MYSNe7"
      },
      "outputs": [],
      "source": [
        "if fetch_data:\n",
        "  # If getting data from scratch\n",
        "  un_boundaries = gpd.read_file(\"https://zstagigaprodeuw1.blob.core.windows.net/gigainframapkit-public-container/country_boundary_data/boundaries.geojson\")\n",
        "  country = un_boundaries[un_boundaries.romnam == country_widget.value]\n",
        "else:\n",
        "  # If using pre-loaded data\n",
        "  country = gpd.read_file(\"https://zstagigaprodeuw1.blob.core.windows.net/gigainframapkit-public-container/stp/raw/stp.geojson\")"
      ]
    },
    {
      "cell_type": "code",
      "execution_count": null,
      "metadata": {
        "colab": {
          "base_uri": "https://localhost:8080/",
          "height": 448
        },
        "id": "POFswjpqSNe7",
        "outputId": "af9469a3-cc35-440c-d90d-c78d7b588d5f"
      },
      "outputs": [],
      "source": [
        "country.plot(color=\"green\")"
      ]
    },
    {
      "cell_type": "code",
      "execution_count": null,
      "metadata": {
        "colab": {
          "base_uri": "https://localhost:8080/"
        },
        "id": "ArNfAC38SNe7",
        "outputId": "8c418821-e773-457e-e98c-c26239654a67"
      },
      "outputs": [],
      "source": [
        "boundary = country.total_bounds\n",
        "utm = country.estimate_utm_crs()\n",
        "latitude = country.centroid.y.squeeze()"
      ]
    },
    {
      "cell_type": "code",
      "execution_count": null,
      "metadata": {
        "cellView": "form",
        "id": "XWwzG2XTSNe9"
      },
      "outputs": [],
      "source": [
        "# @title Function\n",
        "def get_iso3_country_code(country_name):\n",
        "    try:\n",
        "        country = pycountry.countries.get(name=country_name)\n",
        "        return country.alpha_3\n",
        "    except AttributeError:\n",
        "        return None"
      ]
    },
    {
      "cell_type": "code",
      "execution_count": null,
      "metadata": {
        "colab": {
          "base_uri": "https://localhost:8080/"
        },
        "id": "5eYmbGQfSNe9",
        "outputId": "415b92a5-5b1a-4dbb-d742-2efd5b6972c8"
      },
      "outputs": [],
      "source": [
        "country_code = pycountry.countries.get(name = country_widget.value).alpha_3\n",
        "print(f\"The ISO-3 country code for {country_widget.value} is {country_code}.\")"
      ]
    },
    {
      "cell_type": "markdown",
      "metadata": {
        "id": "61YcRM3KSNe-"
      },
      "source": [
        "## Get point of interest (POI) data"
      ]
    },
    {
      "cell_type": "markdown",
      "metadata": {
        "id": "34hcFAd5EdNR"
      },
      "source": [
        "<img src=\"https://wiki.openstreetmap.org/w/images/c/c8/Public-images-osm_logo.png\" alt=\"OpenStreetMap logo\" width=\"20%\">\n",
        "\n",
        "[OpenStreetMap](https://www.openstreetmap.org/) (OSM) is an open-source, community-driven geospatial data project that provides free and editable geographic information at a global scale. Established in 2004, OSM functions as a vast, collaborative mapping database where users contribute data on roads, buildings, land use, natural features, and more, creating a detailed digital representation of the world's infrastructure. Its open data licensing and API access make it highly valuable for applications in GIS analysis, urban planning, transportation modeling, and disaster response."
      ]
    },
    {
      "cell_type": "markdown",
      "metadata": {
        "id": "Kz4_U3DCt9VK"
      },
      "source": [
        "We can directly **query** OpenStreetMap online to look for schools using an online tool: https://overpass-turbo.eu/s/1XsE."
      ]
    },
    {
      "cell_type": "markdown",
      "metadata": {
        "id": "aPKCbne2vh7v"
      },
      "source": [
        "![osm-query](https://i.ibb.co/drqmqrP/Screenshot-2024-11-12-at-10-36-06.png)"
      ]
    },
    {
      "cell_type": "markdown",
      "metadata": {
        "id": "3H6K2jYtEKEM"
      },
      "source": [
        "Othwerise, we can also query the OpenStreetMap data using Python code. The code below:\n",
        "1. Either fetches school data from OpenStreetMap using the `osmnx` API and the `amenity=school` tag (if `fetch_data`=`True`) or loads pre-downloaded data\n",
        "2. Filters the data to keep only relevant columns (ID, amenity type, city, education level, etc.)\n",
        "3. Processes the geographical coordinates for each school\n",
        "\n",
        "This data will help us understand the distribution of educational facilities across the country and identify areas that might be underserved."
      ]
    },
    {
      "cell_type": "code",
      "execution_count": null,
      "metadata": {
        "id": "IurMcJhaSNe_"
      },
      "outputs": [],
      "source": [
        "if fetch_data:\n",
        "    # If getting data from scratch\n",
        "    place = country_widget.value\n",
        "    tags = {\"amenity\": \"school\"}\n",
        "    schools_gdf = ox.features_from_place(place, tags)\n",
        "    schools_gdf = schools_gdf.reset_index(inplace=False)\n",
        "else:\n",
        "    # If using pre-loaded data\n",
        "    schools_gdf = gpd.read_file(\"https://zstagigaprodeuw1.blob.core.windows.net/gigainframapkit-public-container/stp/raw/schools.geojson\")\n",
        "    schools_gdf = schools_gdf.reset_index(inplace=False)"
      ]
    },
    {
      "cell_type": "code",
      "execution_count": null,
      "metadata": {
        "id": "suYfl9BtSNe_"
      },
      "outputs": [],
      "source": [
        "schools_gdf = schools_gdf.reset_index()[[\"id\",\"amenity\",\"operator\", \"geometry\"]]"
      ]
    },
    {
      "cell_type": "code",
      "execution_count": null,
      "metadata": {
        "colab": {
          "base_uri": "https://localhost:8080/",
          "height": 206
        },
        "id": "rLYiAQB26TxI",
        "outputId": "fc476399-e49d-40fd-9a83-ed24042135a4"
      },
      "outputs": [],
      "source": [
        "schools_gdf.head()"
      ]
    },
    {
      "cell_type": "code",
      "execution_count": null,
      "metadata": {
        "colab": {
          "base_uri": "https://localhost:8080/",
          "height": 448
        },
        "id": "8UnkjMzS6iMG",
        "outputId": "474ec55b-579d-46d5-d392-b421203139bb"
      },
      "outputs": [],
      "source": [
        "schools_gdf.plot()"
      ]
    },
    {
      "cell_type": "markdown",
      "metadata": {
        "id": "97KSnGxPSNe_"
      },
      "source": [
        "## Get Ookla speed test data"
      ]
    },
    {
      "cell_type": "markdown",
      "metadata": {
        "id": "m4wtedeuJC77"
      },
      "source": [
        "<img src=\"https://i.ibb.co/wcB1JHC/Screenshot-2024-10-25-at-21-24-24.png\" alt=\"Ookla Open Data\" width=\"75%\">"
      ]
    },
    {
      "cell_type": "markdown",
      "metadata": {
        "id": "Wn_jx5OmGOFv"
      },
      "source": [
        "[Ookla](https://www.ookla.com/ookla-for-good/open-data), known for its Speedtest platform, offers open data on internet speeds, latency, and network quality worldwide. Their datasets, like the Speedtest Global Index, help researchers analyze internet performance and infer knowledge about infrastructure gaps."
      ]
    },
    {
      "cell_type": "markdown",
      "metadata": {
        "id": "Fh9VRCjCIYVp"
      },
      "source": [
        "Here, we process their internet speed test data. For both mobile and fixed broadband:\n",
        "1. We load data from Ookla's public dataset hosted as parquet files on Amazon Web Services (or pre-downloaded files)\n",
        "2. Filter the data to our geographical bounds obtained earlier\n",
        "3. Fetch key metrics like average download speed (`avg_d_kbps`) and latency (`avg_lat_ms`)\n",
        "4. For mobile data, we can also create coverage polygons by buffering around test points. The Ookla data is available as tiles which are approximately 610.8 meters by 610.8 meters at the equator.\n",
        "Fore more information about processing open data from Ookla, visit their [GitHub](https://github.com/teamookla/ookla-open-data) page."
      ]
    },
    {
      "cell_type": "code",
      "execution_count": null,
      "metadata": {
        "id": "v0_zuHsLSNe_"
      },
      "outputs": [],
      "source": [
        "# @title Function\n",
        "def get_perf_tiles_parquet_url(service: str, year: int, quarter: int) -> str:\n",
        "    quarter_start = f\"{year}-{(((quarter - 1) * 3) + 1):02}-01\"\n",
        "    url = f\"s3://ookla-open-data/parquet/performance/type={service}/year={year}/quarter={quarter}/{quarter_start}_performance_{service}_tiles.parquet\"\n",
        "    return url"
      ]
    },
    {
      "cell_type": "markdown",
      "metadata": {
        "id": "HmPpyAAPSNe_"
      },
      "source": [
        "### Mobile"
      ]
    },
    {
      "cell_type": "code",
      "execution_count": null,
      "metadata": {
        "id": "W1YqPrAvSNe_"
      },
      "outputs": [],
      "source": [
        "if fetch_data:\n",
        "  # If getting data from scratch\n",
        "  mobile_perf_tiles_url = get_perf_tiles_parquet_url(\"mobile\", 2024, 2)\n",
        "  bbox_filters = [('tile_y', '<=', boundary[3]), ('tile_y', '>=', boundary[1]),\n",
        "                ('tile_x', '<=', boundary[2]), ('tile_x', '>=', boundary[0])]\n",
        "  mobile_tiles_df = pd.read_parquet(mobile_perf_tiles_url,\n",
        "                           filters=bbox_filters,\n",
        "                           columns=['tile_x', 'tile_y', 'tests', 'avg_d_kbps', 'avg_lat_ms'],\n",
        "                           storage_options={\"s3\": {\"anon\": True}}\n",
        "                           )\n",
        "else:\n",
        "  # If using pre-loaded data\n",
        "  mobile_tiles_df = pd.read_csv(\"https://zstagigaprodeuw1.blob.core.windows.net/gigainframapkit-public-container/stp/raw/stp-ookla-mobile-tiles.csv\",index_col=0)"
      ]
    },
    {
      "cell_type": "code",
      "execution_count": null,
      "metadata": {
        "id": "gfHQ7UlxSNfA"
      },
      "outputs": [],
      "source": [
        "mobile_tiles_gdf = gpd.GeoDataFrame(mobile_tiles_df, geometry=gpd.points_from_xy(mobile_tiles_df.tile_x, mobile_tiles_df.tile_y), crs=\"EPSG:4326\").drop(columns=[\"tile_x\", \"tile_y\"])"
      ]
    },
    {
      "cell_type": "code",
      "execution_count": null,
      "metadata": {
        "colab": {
          "base_uri": "https://localhost:8080/",
          "height": 206
        },
        "id": "JoanePar6YXt",
        "outputId": "242f8367-ce3c-4d4f-bb1b-159201da1bf7"
      },
      "outputs": [],
      "source": [
        "mobile_tiles_gdf.head()"
      ]
    },
    {
      "cell_type": "code",
      "execution_count": null,
      "metadata": {
        "colab": {
          "base_uri": "https://localhost:8080/",
          "height": 448
        },
        "id": "JpRcv8JZ6l5f",
        "outputId": "a1fb4b39-1f38-433d-9d12-2a6b444210a3"
      },
      "outputs": [],
      "source": [
        "mobile_tiles_gdf.plot()"
      ]
    },
    {
      "cell_type": "markdown",
      "metadata": {
        "id": "sNisNCITSNfA"
      },
      "source": [
        "#### Generate mobile coverage area"
      ]
    },
    {
      "cell_type": "markdown",
      "metadata": {
        "id": "sqG21whLJkWG"
      },
      "source": [
        "We can infer mobile coverage areas from Ookla's internet speed test data. We assume that areas where there have been succesful mobile speed tests are areas that have cellular coverage, and vice versa. We do not have information, however, on which cellular technology it refers to (3G, 4G, 5G)."
      ]
    },
    {
      "cell_type": "code",
      "execution_count": null,
      "metadata": {
        "id": "ioAkcwNASNfA"
      },
      "outputs": [],
      "source": [
        "tile_size_at_latitude=610.8*np.cos(math.radians(latitude))\n",
        "buffers = mobile_tiles_gdf.to_crs(utm).buffer(tile_size_at_latitude).to_crs(\"EPSG:4326\")\n",
        "single_polygon = unary_union(buffers)\n",
        "mobile_coverage_gdf = gpd.GeoDataFrame(geometry=[single_polygon], crs=\"EPSG:4326\")"
      ]
    },
    {
      "cell_type": "code",
      "execution_count": null,
      "metadata": {
        "colab": {
          "base_uri": "https://localhost:8080/",
          "height": 80
        },
        "id": "YkQxIspM6fGw",
        "outputId": "abf25b3c-dfd3-4676-bca8-9b3985fa6731"
      },
      "outputs": [],
      "source": [
        "mobile_coverage_gdf.head()"
      ]
    },
    {
      "cell_type": "code",
      "execution_count": null,
      "metadata": {
        "colab": {
          "base_uri": "https://localhost:8080/",
          "height": 448
        },
        "id": "shuppN8G6nw4",
        "outputId": "6255a9e5-2cf9-45f8-8326-8a4a0d0016e5"
      },
      "outputs": [],
      "source": [
        "mobile_coverage_gdf.plot()"
      ]
    },
    {
      "cell_type": "markdown",
      "metadata": {
        "id": "9ACu1A6fSNfA"
      },
      "source": [
        "### Fixed"
      ]
    },
    {
      "cell_type": "code",
      "execution_count": null,
      "metadata": {
        "id": "a0A_6qq_SNfA"
      },
      "outputs": [],
      "source": [
        "if fetch_data:\n",
        "  # If getting data from scratch\n",
        "  fixed_perf_tiles_url = get_perf_tiles_parquet_url(\"fixed\", 2024, 2)\n",
        "  fixed_tiles_df = pd.read_parquet(fixed_perf_tiles_url,\n",
        "                           filters=bbox_filters,\n",
        "                           columns=['tile_x', 'tile_y', 'tests', 'avg_d_kbps', 'avg_lat_ms'],\n",
        "                           storage_options={\"s3\": {\"anon\": True}}\n",
        "                           )\n",
        "else:\n",
        "  # If using pre-loaded data\n",
        "  fixed_tiles_df = pd.read_csv(\"https://zstagigaprodeuw1.blob.core.windows.net/gigainframapkit-public-container/stp/raw/stp-ookla-fixed-tiles.csv\")"
      ]
    },
    {
      "cell_type": "code",
      "execution_count": null,
      "metadata": {
        "id": "31imMf73PwR6"
      },
      "outputs": [],
      "source": [
        "fiber_nodes_gdf = gpd.GeoDataFrame(fixed_tiles_df, geometry=gpd.points_from_xy(fixed_tiles_df.tile_x,fixed_tiles_df.tile_y), crs=\"EPSG:4326\")"
      ]
    },
    {
      "cell_type": "code",
      "execution_count": null,
      "metadata": {
        "colab": {
          "base_uri": "https://localhost:8080/",
          "height": 206
        },
        "id": "eTnOL98w6s-A",
        "outputId": "a02fcc39-4e2e-4f63-d461-7e328b55b054"
      },
      "outputs": [],
      "source": [
        "fiber_nodes_gdf.head()"
      ]
    },
    {
      "cell_type": "code",
      "execution_count": null,
      "metadata": {
        "colab": {
          "base_uri": "https://localhost:8080/",
          "height": 451
        },
        "id": "UYZa5Rwy6uD9",
        "outputId": "a6b67253-ed48-4f85-b70a-0191d31d8ffe"
      },
      "outputs": [],
      "source": [
        "fiber_nodes_gdf.plot()"
      ]
    },
    {
      "cell_type": "markdown",
      "metadata": {
        "id": "JELT4Zh0SNfA"
      },
      "source": [
        "## Get cell site data"
      ]
    },
    {
      "cell_type": "markdown",
      "metadata": {
        "id": "AOfIhsxeLAo4"
      },
      "source": [
        "<img src=\"https://wiki.opencellid.org/images/d/de/OpenCellID_banner_main_page2.png\" alt=\"Ookla Open Data\" width=\"50%\">"
      ]
    },
    {
      "cell_type": "markdown",
      "metadata": {
        "id": "PGgPJ-tcKDFw"
      },
      "source": [
        "[OpenCellID](https://wiki.opencellid.org/wiki/What_is_OpenCellID) is the world's largest collaborative community project that collects GPS positions of cell towers, used free of charge, for a multitude of commercial and private purposes. Notably, they publish data on cell site coordinates. In order to download their data, register at their page and obtain a free API acces token. Using this token, you will be able to download [datasets](https://opencellid.org/downloads.php) for each country."
      ]
    },
    {
      "cell_type": "markdown",
      "metadata": {
        "id": "59S3THdIKriF"
      },
      "source": [
        "The code below:\n",
        "1. Loads a CSV file containing cell site coordinates obtained from OpenCellID.\n",
        "2. Converts it to a GeoDataFrame for spatial analysis"
      ]
    },
    {
      "cell_type": "code",
      "execution_count": null,
      "metadata": {
        "id": "hsks4-PEfO2S"
      },
      "outputs": [],
      "source": [
        "# @title Function\n",
        "def unzip_gz(gz_file_path, output_path=None):\n",
        "    \"\"\"\n",
        "    Unzips a .gz file and returns the path to the unzipped file.\n",
        "\n",
        "    Args:\n",
        "        gz_file_path (str): Path to the .gz file\n",
        "        output_path (str): Path for the output file.\n",
        "\n",
        "    Returns:\n",
        "        str: Path to the unzipped file\n",
        "    \"\"\"\n",
        "    # Create output directory if it doesn't exist\n",
        "    output_dir = os.path.dirname(output_path)\n",
        "    if output_dir and not os.path.exists(output_dir):\n",
        "        os.makedirs(output_dir)\n",
        "\n",
        "    # Unzip the file\n",
        "    with gzip.open(gz_file_path, 'rb') as f_in:\n",
        "        with open(output_path, 'wb') as f_out:\n",
        "            shutil.copyfileobj(f_in, f_out)\n",
        "\n",
        "    return output_path"
      ]
    },
    {
      "cell_type": "code",
      "execution_count": null,
      "metadata": {
        "id": "tuUbnJDbAHzQ"
      },
      "outputs": [],
      "source": [
        "# Change this to True, if you are getting raw data from OpenCellID\n",
        "use_open_cell_id = False"
      ]
    },
    {
      "cell_type": "code",
      "execution_count": null,
      "metadata": {
        "id": "ywGDJWHtSNfA"
      },
      "outputs": [],
      "source": [
        "if use_open_cell_id:\n",
        "  # If getting raw data from OpenCellID, download the .csv.fz file from https://opencellid.org/downloads.php\n",
        "  # You will need to register and get an API key, then search by country and download the file(s\n",
        "  # Then upload them to your Google Drive, and copy the location of the file and assign it to location_of_gz_file\n",
        "  location_of_gz_file = \"/content/626.csv.gz\"\n",
        "  unzipped_cell_sites = unzip_gz(location_of_gz_file,\"/content/cell_sites.csv\")\n",
        "  cell_sites = pd.read_csv(unzipped_cell_sites, header=None,\n",
        "                         names = ['radio', 'mcc', 'net', 'area', 'cell', 'unit', 'lon', 'lat',\n",
        "                                  'range', 'samples', 'changeable', 'created', 'updated', 'averageSignal'])\n",
        "  cell_sites_gdf = gpd.GeoDataFrame(cell_sites, geometry=gpd.points_from_xy(cell_sites.lon, cell_sites.lat), crs=\"EPSG:4326\").drop(columns=[\"lon\", \"lat\"])\n",
        "else:\n",
        "  # If not using the Open Cell ID data for Sao Tome and Principe, use the data from Ookla as an approximation of cell site locations (inappropriate!!!)\n",
        "  cell_sites_gdf = mobile_tiles_gdf"
      ]
    },
    {
      "cell_type": "code",
      "execution_count": null,
      "metadata": {
        "colab": {
          "base_uri": "https://localhost:8080/",
          "height": 206
        },
        "id": "sHUdKVlH6wjz",
        "outputId": "e80a7a59-bc3c-4d9e-9e51-dfae3fa7d789"
      },
      "outputs": [],
      "source": [
        "cell_sites_gdf.head()"
      ]
    },
    {
      "cell_type": "code",
      "execution_count": null,
      "metadata": {
        "colab": {
          "base_uri": "https://localhost:8080/",
          "height": 448
        },
        "id": "jMdX1hph6yD1",
        "outputId": "54328fb2-74e6-4261-deff-298bfa410de4"
      },
      "outputs": [],
      "source": [
        "cell_sites_gdf.plot()"
      ]
    },
    {
      "cell_type": "markdown",
      "metadata": {
        "id": "hwGZPsKLSNfI"
      },
      "source": [
        "# Standardize data"
      ]
    },
    {
      "cell_type": "markdown",
      "metadata": {
        "id": "2GenJT8zRPYF"
      },
      "source": [
        "Finally, we standardize all our data into a consistent format, following the [ITU data dictionaries](https://bbmaps.itu.int/geonetwork/srv/eng/catalog.search;jsessionid=4BB00A9A95D58DCCAAD3967DC2DEA0E0#/metadata/d4fce2b9-ed20-4a3e-9312-4f04e1a384ad) for infrastructure data.\n",
        "1. Create unified schemas for each infrastructure type (POIs, cell sites, nodes, coverage)\n",
        "2. Generate unique IDs for each feature, using UUIDs (Universally Unique Identifier). These are long serial numbers that are almost guaranteed to be unique every time we generate them.\n",
        "3. Transform data to match standard schemas\n",
        "4. Save standardized data to CSV/GeoJSON files\n",
        "\n",
        "This standardization makes it easier to:\n",
        "- Share data with other analysts\n",
        "- Perform consistent analysis across different regions and projects"
      ]
    },
    {
      "cell_type": "code",
      "execution_count": null,
      "metadata": {
        "id": "EYttIqN6SNfI"
      },
      "outputs": [],
      "source": [
        "# @title Function\n",
        "def extract_lat_lon(gdf, id_column='id'):\n",
        "   \"\"\"\n",
        "   Create a new geodataframe with latitude, longitude and UUID columns\n",
        "   \"\"\"\n",
        "   data = pd.DataFrame({\n",
        "       id_column: [str(uuid.uuid4()) for _ in range(len(gdf))],\n",
        "       'dataset_id': str(uuid.uuid4()),\n",
        "       'lat': gdf.geometry.y,\n",
        "       'lon': gdf.geometry.x,\n",
        "   })\n",
        "   gdf = gpd.GeoDataFrame(data, geometry=gdf.geometry, crs=gdf.crs)\n",
        "   return gdf"
      ]
    },
    {
      "cell_type": "markdown",
      "metadata": {
        "id": "_Wf3x_iRSNfI"
      },
      "source": [
        "## Point of interest (POI) data"
      ]
    },
    {
      "cell_type": "code",
      "execution_count": null,
      "metadata": {
        "cellView": "form",
        "colab": {
          "base_uri": "https://localhost:8080/",
          "height": 389
        },
        "id": "9XA1y75jSNfI",
        "outputId": "87c08f95-72d3-4173-dec2-134c2e1eccf9"
      },
      "outputs": [],
      "source": [
        "# @title POIs\n",
        "poi_metadata = pd.DataFrame({\n",
        "   'column_name': ['poi_id', 'dataset_id', 'lat', 'lon', 'poi_type', 'is_public', 'poi_subtype', 'country_code', 'is_connected', 'connectivity_type'],\n",
        "   'column_type': ['UUID', 'UUID', 'float', 'float', 'string', 'boolean', 'string', 'string', 'boolean', 'string'],\n",
        "   'levels': [''] * 10,\n",
        "   'example': ['123e4567-e89b-12d3-a456-426614174000', '987fcdeb-51a2-12d3-a456-426614174000', '36.7538', '3.0588', 'school', 'True', 'primary school', 'DZA', 'True', '4G'],\n",
        "   'mandatory': ['Yes', 'Yes', 'Yes', 'Yes', 'Yes', 'No', 'No', 'Yes', 'No', 'No'],\n",
        "   'definition': [\n",
        "       'Unique identifier for the POI',\n",
        "       'Unique identifier for the dataset',\n",
        "       'Latitude coordinate',\n",
        "       'Longitude coordinate',\n",
        "       'Type of point of interest',\n",
        "       'Whether the POI is public or private',\n",
        "       'Specific subtype of the POI',\n",
        "       'ISO 3166-1 alpha-3 country code',\n",
        "       'Whether the POI has connectivity',\n",
        "       'Type of internet connectivity'\n",
        "   ]\n",
        "})\n",
        "styled_df = poi_metadata.style.set_properties(**{\n",
        "   'text-align': 'left',\n",
        "   'border': '1px solid black',\n",
        "   'padding': '8px'\n",
        "}).set_table_styles([\n",
        "   {'selector': 'thead', 'props': [('background-color', '#f2f2f2'), ('font-weight', 'bold'), ('border-bottom', '2px solid black')]},\n",
        "   {'selector': 'tbody tr:nth-of-type(odd)', 'props': [('background-color', '#f9f9f9')]}\n",
        "])\n",
        "display(styled_df)"
      ]
    },
    {
      "cell_type": "code",
      "execution_count": null,
      "metadata": {
        "colab": {
          "base_uri": "https://localhost:8080/"
        },
        "id": "ZGv9Mdt_SNfI",
        "outputId": "a81093bd-45f9-4445-eb0d-6a49e266290e"
      },
      "outputs": [],
      "source": [
        "# Convert geometries to centroids\n",
        "schools_gdf.geometry = schools_gdf.geometry.centroid\n",
        "\n",
        "# Create blank dataframe with id, latitute and longitude columns\n",
        "formatted_schools = extract_lat_lon(schools_gdf, id_column='poi_id')\n",
        "\n",
        "# Fill in other columns\n",
        "formatted_schools[\"country_code\"] = country_code\n",
        "formatted_schools[\"poi_type\"] = \"school\"\n",
        "formatted_schools[\"is_connected\"] = False"
      ]
    },
    {
      "cell_type": "code",
      "execution_count": null,
      "metadata": {
        "colab": {
          "base_uri": "https://localhost:8080/",
          "height": 206
        },
        "id": "9A1x1I_eSNfI",
        "outputId": "3fe8da5e-14e6-4c7b-b225-4940ab7a9f2c"
      },
      "outputs": [],
      "source": [
        "formatted_schools.head()"
      ]
    },
    {
      "cell_type": "code",
      "execution_count": null,
      "metadata": {
        "id": "uwPXQVQgj2DG"
      },
      "outputs": [],
      "source": [
        "# Export file to use in later analysis\n",
        "formatted_schools.to_file(f\"/content/formatted_schools.geojson\", driver=\"GeoJSON\")"
      ]
    },
    {
      "cell_type": "markdown",
      "metadata": {
        "id": "pkzgkvAASNfJ"
      },
      "source": [
        "## Cell site data"
      ]
    },
    {
      "cell_type": "code",
      "execution_count": null,
      "metadata": {
        "cellView": "form",
        "colab": {
          "base_uri": "https://localhost:8080/",
          "height": 355
        },
        "id": "5oZO5kIGSNfJ",
        "outputId": "a829113d-3952-49d2-e4b3-5cee40c561ee"
      },
      "outputs": [],
      "source": [
        "# @title Cell sites\n",
        "cell_metadata = pd.DataFrame({\n",
        "   'column_name': ['ict_id', 'dataset_id', 'latitude', 'longitude', 'operator_name', 'radio_type', 'antenna_height_m', 'backhaul_type', 'backhaul_throughput_mbps'],\n",
        "   'column_type': ['UUID', 'UUID', 'float', 'float', 'string', 'string', 'float', 'string', 'float'],\n",
        "   'levels': [\n",
        "       '',  # ict_id\n",
        "       '',  # dataset_id\n",
        "       '',  # latitude\n",
        "       '',  # longitude\n",
        "       '',  # operator_name\n",
        "       'LTE, UMTS, GSM, CDMA',  # radio_type\n",
        "       '',  # antenna_height_m\n",
        "       'fiber, microwave, satellite',  # backhaul_type\n",
        "       ''   # backhaul_throughput_mbps\n",
        "   ],\n",
        "   'example': ['123e4567-e89b-12d3-a456-426614174000', '987fcdeb-51a2-12d3-a456-426614174000', '38.988755', '1.401938', 'TelOperator', 'LTE', '25', 'fiber', '1000'],\n",
        "   'mandatory': ['Yes', 'Yes', 'Yes', 'Yes', 'No', 'Yes', 'Yes', 'No', 'No'],\n",
        "   'definition': [\n",
        "       'Cell tower identifier',\n",
        "       'Unique identifier for the dataset',\n",
        "       'Cell tower geographical latitude',\n",
        "       'Cell tower geographical longitude',\n",
        "       'Mobile network operator name',\n",
        "       'Type of radio transmission technology',\n",
        "       'Antenna height on the tower or building',\n",
        "       'Type of backhaul connectivity of the cell tower',\n",
        "       'Equipped throughput of the backhaul'\n",
        "   ]\n",
        "})\n",
        "styled_df = cell_metadata.style.set_properties(**{\n",
        "   'text-align': 'left',\n",
        "   'border': '1px solid black',\n",
        "   'padding': '8px'\n",
        "}).set_table_styles([\n",
        "   {'selector': 'thead', 'props': [('background-color', '#f2f2f2'), ('font-weight', 'bold'), ('border-bottom', '2px solid black')]},\n",
        "   {'selector': 'tbody tr:nth-of-type(odd)', 'props': [('background-color', '#f9f9f9')]}\n",
        "])\n",
        "display(styled_df)"
      ]
    },
    {
      "cell_type": "code",
      "execution_count": null,
      "metadata": {
        "colab": {
          "base_uri": "https://localhost:8080/",
          "height": 896
        },
        "id": "2WbFn9zzCTWi",
        "outputId": "ca616696-0658-4ffa-c52d-218e22640c8c"
      },
      "outputs": [],
      "source": [
        "cell_sites_gdf"
      ]
    },
    {
      "cell_type": "code",
      "execution_count": null,
      "metadata": {
        "id": "yKbBulzLSNfJ"
      },
      "outputs": [],
      "source": [
        "if use_open_cell_id:\n",
        "  cell_sites_gdf[\"radio\"].value_counts()"
      ]
    },
    {
      "cell_type": "markdown",
      "metadata": {
        "id": "GgZdpabzR8ZJ"
      },
      "source": [
        "We assume that each antenna height is 25 meters."
      ]
    },
    {
      "cell_type": "code",
      "execution_count": null,
      "metadata": {
        "id": "E3DoJawCSNfJ"
      },
      "outputs": [],
      "source": [
        "# Create blank dataframe with id, latitute and longitude columns\n",
        "formatted_cell_sites = extract_lat_lon(cell_sites_gdf, id_column='ict_id')\n",
        "\n",
        "# Fill in other columns\n",
        "formatted_cell_sites[\"radio_type\"] = cell_sites_gdf[\"radio\"] if use_open_cell_id else \"LTE\"\n",
        "formatted_cell_sites[\"antenna_height_m\"] = 25\n",
        "formatted_cell_sites[\"backhaul_type\"] = pd.NA\n",
        "formatted_cell_sites[\"backhaul_throughput_mbps\"] = pd.NA\n",
        "formatted_cell_sites[\"operator_name\"] = pd.NA"
      ]
    },
    {
      "cell_type": "code",
      "execution_count": null,
      "metadata": {
        "colab": {
          "base_uri": "https://localhost:8080/",
          "height": 293
        },
        "id": "mNnNH3o-SNfJ",
        "outputId": "fb9d6baf-0a45-44c0-b6c2-5649393a91dd"
      },
      "outputs": [],
      "source": [
        "formatted_cell_sites.head()"
      ]
    },
    {
      "cell_type": "code",
      "execution_count": null,
      "metadata": {
        "id": "yF2li3bTkP9K"
      },
      "outputs": [],
      "source": [
        "# Export file to use in later analysis\n",
        "formatted_cell_sites.to_file(f\"/content/formatted_cell_sites.geojson\", driver=\"GeoJSON\")"
      ]
    },
    {
      "cell_type": "markdown",
      "metadata": {
        "id": "KOhUPjdTSNfK"
      },
      "source": [
        "## Transmission node data"
      ]
    },
    {
      "cell_type": "code",
      "execution_count": null,
      "metadata": {
        "cellView": "form",
        "colab": {
          "base_uri": "https://localhost:8080/",
          "height": 355
        },
        "id": "kx0puaY4SNfK",
        "outputId": "2411b021-25e0-46ce-b8b6-57ea5be7ab29"
      },
      "outputs": [],
      "source": [
        "# @title Nodes\n",
        "node_metadata = pd.DataFrame({\n",
        "   'column_name': ['ict_id', 'dataset_id', 'latitude', 'longitude', 'operator_name', 'infrastructure_type', 'node_status', 'equipped_capacity_mbps', 'potential_capacity_mbps'],\n",
        "   'column_type': ['UUID', 'UUID', 'float', 'float', 'string', 'string', 'string', 'float', 'float'],\n",
        "   'levels': [\n",
        "       '',  # node_id\n",
        "       '',  # dataset_id\n",
        "       '',  # latitude\n",
        "       '',  # longitude\n",
        "       '',  # operator_name\n",
        "       'fiber, microwave, other',  # infrastructure_type\n",
        "       'operational, planned, under construction',  # node_status\n",
        "       '',  # equipped_capacity_mbps\n",
        "       ''   # potential_capacity_mbps\n",
        "   ],\n",
        "   'example': ['123e4567-e89b-12d3-a456-426614174000', '987fcdeb-51a2-12d3-a456-426614174000', '38.988755', '1.401938', 'TelOperator', 'fiber', 'operational', '1000', '2000'],\n",
        "   'mandatory': ['Yes', 'Yes', 'Yes', 'Yes', 'No', 'Yes', 'Yes', 'No', 'No'],\n",
        "   'definition': [\n",
        "       'Node identifier',\n",
        "       'Unique identifier for the dataset',\n",
        "       'Geographical latitude',\n",
        "       'Geographical longitude',\n",
        "       'Name of the mobile operator',\n",
        "       'Type of Infrastructure',\n",
        "       'Status of the node',\n",
        "       'Equipped bandwidth ready for use to connect subscribers',\n",
        "       'Total theoretical bandwidth available for subscriber connections'\n",
        "   ]\n",
        "})\n",
        "\n",
        "styled_df = node_metadata.style.set_properties(**{\n",
        "   'text-align': 'left',\n",
        "   'border': '1px solid black',\n",
        "   'padding': '8px'\n",
        "}).set_table_styles([\n",
        "   {'selector': 'thead', 'props': [('background-color', '#f2f2f2'), ('font-weight', 'bold'), ('border-bottom', '2px solid black')]},\n",
        "   {'selector': 'tbody tr:nth-of-type(odd)', 'props': [('background-color', '#f9f9f9')]}\n",
        "])\n",
        "display(styled_df)"
      ]
    },
    {
      "cell_type": "markdown",
      "metadata": {
        "id": "AZcl7MUPSJT6"
      },
      "source": [
        "All our points are fiber nodes, and we assume that they are all operational."
      ]
    },
    {
      "cell_type": "code",
      "execution_count": null,
      "metadata": {
        "id": "Q4iNwXEbSNfK"
      },
      "outputs": [],
      "source": [
        "# Create blank dataframe with id, latitute and longitude columns\n",
        "formatted_nodes = extract_lat_lon(fiber_nodes_gdf, id_column='ict_id')\n",
        "\n",
        "# Fill in other columns\n",
        "formatted_nodes[\"operator_name\"] = pd.NA\n",
        "formatted_nodes[\"infrastructure_type\"] = \"fiber\"\n",
        "formatted_nodes[\"node_status\"] = \"operational\"\n",
        "formatted_nodes[\"equipped_capacity_mbps\"] = pd.NA\n",
        "formatted_nodes[\"potential_capacity_mbps\"] = pd.NA"
      ]
    },
    {
      "cell_type": "code",
      "execution_count": null,
      "metadata": {
        "colab": {
          "base_uri": "https://localhost:8080/",
          "height": 399
        },
        "id": "DR3XJ66vSNfK",
        "outputId": "b7f32e45-55b5-4acd-8ddf-cbd9743cb73f"
      },
      "outputs": [],
      "source": [
        "formatted_nodes.head()"
      ]
    },
    {
      "cell_type": "code",
      "execution_count": null,
      "metadata": {
        "id": "x7-4bTd9jzlw"
      },
      "outputs": [],
      "source": [
        "# Export file to use in later analysis\n",
        "formatted_nodes.to_file(f\"/content/formatted_nodes.geojson\", driver=\"GeoJSON\")"
      ]
    },
    {
      "cell_type": "markdown",
      "metadata": {
        "id": "ADQeR2AnSNfK"
      },
      "source": [
        "## Mobile coverage"
      ]
    },
    {
      "cell_type": "code",
      "execution_count": null,
      "metadata": {
        "cellView": "form",
        "colab": {
          "base_uri": "https://localhost:8080/",
          "height": 254
        },
        "id": "cljZ7Dn7SNfL",
        "outputId": "13d1b79e-90ce-4b0e-97ca-0d3dbd7338dc"
      },
      "outputs": [],
      "source": [
        "# @title Coverage\n",
        "coverage_metadata = pd.DataFrame({\n",
        "   'column_name': ['coverage_id', 'dataset_id', 'signal_strength_dbm', 'operator_name', 'geometry', 'coverage'],\n",
        "   'column_type': ['UUID', 'UUID', 'float', 'string', 'geometry', 'integer'],\n",
        "   'levels': [\n",
        "       '',  # coverage_id\n",
        "       '',  # dataset_id\n",
        "       '',  # signal_strength\n",
        "       '',  # operator_name\n",
        "       'polygon',  # geometry\n",
        "       '1'\n",
        "   ],\n",
        "   'example': [\n",
        "       '123e4567-e89b-12d3-a456-426614174000',\n",
        "       '987fcdeb-51a2-12d3-a456-426614174000',\n",
        "       '-93',\n",
        "       'TelOperator',\n",
        "       'POLYGON((...))',\n",
        "       '1'\n",
        "   ],\n",
        "   'mandatory': ['Yes', 'Yes', 'Yes', 'No', 'Yes', 'Yes'],\n",
        "   'definition': [\n",
        "       'Unique identifier for the coverage area',\n",
        "       'Unique identifier for the dataset',\n",
        "       'Mobile signal strength in dBm for coverage',\n",
        "       'Name of the mobile operator',\n",
        "       'Polygon geometry of coverage area',\n",
        "       'Binary value indicating coverage'\n",
        "   ]\n",
        "})\n",
        "\n",
        "styled_df = coverage_metadata.style.set_properties(**{\n",
        "   'text-align': 'left',\n",
        "   'border': '1px solid black',\n",
        "   'padding': '8px'\n",
        "}).set_table_styles([\n",
        "   {'selector': 'thead', 'props': [('background-color', '#f2f2f2'), ('font-weight', 'bold'), ('border-bottom', '2px solid black')]},\n",
        "   {'selector': 'tbody tr:nth-of-type(odd)', 'props': [('background-color', '#f9f9f9')]}\n",
        "])\n",
        "display(styled_df)"
      ]
    },
    {
      "cell_type": "code",
      "execution_count": null,
      "metadata": {
        "id": "WylWNLHoSNfL"
      },
      "outputs": [],
      "source": [
        "# Create blank dataframe with id, latitute and longitude columns\n",
        "formatted_coverage = mobile_coverage_gdf\n",
        "\n",
        "# Fill in other columns\n",
        "formatted_coverage[\"coverage\"] = 1\n",
        "formatted_coverage[\"signal_strength_dbm\"] = pd.NA\n",
        "formatted_coverage[\"operator_name\"] = pd.NA\n",
        "formatted_coverage[\"coverage_id\"] = [str(uuid.uuid4()) for _ in range(len(formatted_coverage))]\n",
        "formatted_coverage[\"dataset_id\"] = str(uuid.uuid4())"
      ]
    },
    {
      "cell_type": "code",
      "execution_count": null,
      "metadata": {
        "colab": {
          "base_uri": "https://localhost:8080/",
          "height": 80
        },
        "id": "yKFS_M1iSNfL",
        "outputId": "4ab856d9-4f05-443d-cbc2-38c319d0536e"
      },
      "outputs": [],
      "source": [
        "formatted_coverage.head()"
      ]
    },
    {
      "cell_type": "code",
      "execution_count": null,
      "metadata": {
        "id": "QgYzkKs2kVHp"
      },
      "outputs": [],
      "source": [
        "# Export file to use in later analysis\n",
        "formatted_coverage.to_file(f\"/content/formatted_coverage.geojson\", driver=\"GeoJSON\")"
      ]
    }
  ],
  "metadata": {
    "colab": {
      "provenance": []
    },
    "kernelspec": {
      "display_name": "giga-inframapkit-env",
      "language": "python",
      "name": "python3"
    },
    "language_info": {
      "codemirror_mode": {
        "name": "ipython",
        "version": 3
      },
      "file_extension": ".py",
      "mimetype": "text/x-python",
      "name": "python",
      "nbconvert_exporter": "python",
      "pygments_lexer": "ipython3",
      "version": "3.11.11"
    },
    "widgets": {
      "application/vnd.jupyter.widget-state+json": {
        "1028693f8ead4d2daf3e7b0a8688ff8e": {
          "model_module": "@jupyter-widgets/base",
          "model_module_version": "1.2.0",
          "model_name": "LayoutModel",
          "state": {
            "_model_module": "@jupyter-widgets/base",
            "_model_module_version": "1.2.0",
            "_model_name": "LayoutModel",
            "_view_count": null,
            "_view_module": "@jupyter-widgets/base",
            "_view_module_version": "1.2.0",
            "_view_name": "LayoutView",
            "align_content": null,
            "align_items": "center",
            "align_self": null,
            "border": null,
            "bottom": null,
            "display": "flex",
            "flex": "1 1",
            "flex_flow": "row wrap",
            "grid_area": null,
            "grid_auto_columns": null,
            "grid_auto_flow": null,
            "grid_auto_rows": null,
            "grid_column": null,
            "grid_gap": null,
            "grid_row": null,
            "grid_template_areas": null,
            "grid_template_columns": null,
            "grid_template_rows": null,
            "height": null,
            "justify_content": "space-between",
            "justify_items": null,
            "left": null,
            "margin": null,
            "max_height": null,
            "max_width": null,
            "min_height": null,
            "min_width": "20px",
            "object_fit": null,
            "object_position": null,
            "order": null,
            "overflow": null,
            "overflow_x": null,
            "overflow_y": null,
            "padding": null,
            "right": null,
            "top": null,
            "visibility": null,
            "width": "auto"
          }
        },
        "79b76c9730f6480f9ea4710fa8112a2f": {
          "model_module": "@jupyter-widgets/controls",
          "model_module_version": "1.5.0",
          "model_name": "DescriptionStyleModel",
          "state": {
            "_model_module": "@jupyter-widgets/controls",
            "_model_module_version": "1.5.0",
            "_model_name": "DescriptionStyleModel",
            "_view_count": null,
            "_view_module": "@jupyter-widgets/base",
            "_view_module_version": "1.2.0",
            "_view_name": "StyleView",
            "description_width": "initial"
          }
        },
        "a6341ba516724459a9f776e14b2aafdb": {
          "model_module": "@jupyter-widgets/controls",
          "model_module_version": "1.5.0",
          "model_name": "DropdownModel",
          "state": {
            "_dom_classes": [],
            "_model_module": "@jupyter-widgets/controls",
            "_model_module_version": "1.5.0",
            "_model_name": "DropdownModel",
            "_options_labels": [
              "Aruba",
              "Afghanistan",
              "Angola",
              "Anguilla",
              "Åland Islands",
              "Albania",
              "Andorra",
              "United Arab Emirates",
              "Argentina",
              "Armenia",
              "American Samoa",
              "Antarctica",
              "French Southern Territories",
              "Antigua and Barbuda",
              "Australia",
              "Austria",
              "Azerbaijan",
              "Burundi",
              "Belgium",
              "Benin",
              "Bonaire, Sint Eustatius and Saba",
              "Burkina Faso",
              "Bangladesh",
              "Bulgaria",
              "Bahrain",
              "Bahamas",
              "Bosnia and Herzegovina",
              "Saint Barthélemy",
              "Belarus",
              "Belize",
              "Bermuda",
              "Bolivia, Plurinational State of",
              "Brazil",
              "Barbados",
              "Brunei Darussalam",
              "Bhutan",
              "Bouvet Island",
              "Botswana",
              "Central African Republic",
              "Canada",
              "Cocos (Keeling) Islands",
              "Switzerland",
              "Chile",
              "China",
              "Côte d'Ivoire",
              "Cameroon",
              "Congo, The Democratic Republic of the",
              "Congo",
              "Cook Islands",
              "Colombia",
              "Comoros",
              "Cabo Verde",
              "Costa Rica",
              "Cuba",
              "Curaçao",
              "Christmas Island",
              "Cayman Islands",
              "Cyprus",
              "Czechia",
              "Germany",
              "Djibouti",
              "Dominica",
              "Denmark",
              "Dominican Republic",
              "Algeria",
              "Ecuador",
              "Egypt",
              "Eritrea",
              "Western Sahara",
              "Spain",
              "Estonia",
              "Ethiopia",
              "Finland",
              "Fiji",
              "Falkland Islands (Malvinas)",
              "France",
              "Faroe Islands",
              "Micronesia, Federated States of",
              "Gabon",
              "United Kingdom",
              "Georgia",
              "Guernsey",
              "Ghana",
              "Gibraltar",
              "Guinea",
              "Guadeloupe",
              "Gambia",
              "Guinea-Bissau",
              "Equatorial Guinea",
              "Greece",
              "Grenada",
              "Greenland",
              "Guatemala",
              "French Guiana",
              "Guam",
              "Guyana",
              "Hong Kong",
              "Heard Island and McDonald Islands",
              "Honduras",
              "Croatia",
              "Haiti",
              "Hungary",
              "Indonesia",
              "Isle of Man",
              "India",
              "British Indian Ocean Territory",
              "Ireland",
              "Iran, Islamic Republic of",
              "Iraq",
              "Iceland",
              "Israel",
              "Italy",
              "Jamaica",
              "Jersey",
              "Jordan",
              "Japan",
              "Kazakhstan",
              "Kenya",
              "Kyrgyzstan",
              "Cambodia",
              "Kiribati",
              "Saint Kitts and Nevis",
              "Korea, Republic of",
              "Kuwait",
              "Lao People's Democratic Republic",
              "Lebanon",
              "Liberia",
              "Libya",
              "Saint Lucia",
              "Liechtenstein",
              "Sri Lanka",
              "Lesotho",
              "Lithuania",
              "Luxembourg",
              "Latvia",
              "Macao",
              "Saint Martin (French part)",
              "Morocco",
              "Monaco",
              "Moldova, Republic of",
              "Madagascar",
              "Maldives",
              "Mexico",
              "Marshall Islands",
              "North Macedonia",
              "Mali",
              "Malta",
              "Myanmar",
              "Montenegro",
              "Mongolia",
              "Northern Mariana Islands",
              "Mozambique",
              "Mauritania",
              "Montserrat",
              "Martinique",
              "Mauritius",
              "Malawi",
              "Malaysia",
              "Mayotte",
              "Namibia",
              "New Caledonia",
              "Niger",
              "Norfolk Island",
              "Nigeria",
              "Nicaragua",
              "Niue",
              "Netherlands",
              "Norway",
              "Nepal",
              "Nauru",
              "New Zealand",
              "Oman",
              "Pakistan",
              "Panama",
              "Pitcairn",
              "Peru",
              "Philippines",
              "Palau",
              "Papua New Guinea",
              "Poland",
              "Puerto Rico",
              "Korea, Democratic People's Republic of",
              "Portugal",
              "Paraguay",
              "Palestine, State of",
              "French Polynesia",
              "Qatar",
              "Réunion",
              "Romania",
              "Russian Federation",
              "Rwanda",
              "Saudi Arabia",
              "Sudan",
              "Senegal",
              "Singapore",
              "South Georgia and the South Sandwich Islands",
              "Saint Helena, Ascension and Tristan da Cunha",
              "Svalbard and Jan Mayen",
              "Solomon Islands",
              "Sierra Leone",
              "El Salvador",
              "San Marino",
              "Somalia",
              "Saint Pierre and Miquelon",
              "Serbia",
              "South Sudan",
              "Sao Tome and Principe",
              "Suriname",
              "Slovakia",
              "Slovenia",
              "Sweden",
              "Eswatini",
              "Sint Maarten (Dutch part)",
              "Seychelles",
              "Syrian Arab Republic",
              "Turks and Caicos Islands",
              "Chad",
              "Togo",
              "Thailand",
              "Tajikistan",
              "Tokelau",
              "Turkmenistan",
              "Timor-Leste",
              "Tonga",
              "Trinidad and Tobago",
              "Tunisia",
              "Türkiye",
              "Tuvalu",
              "Taiwan, Province of China",
              "Tanzania, United Republic of",
              "Uganda",
              "Ukraine",
              "United States Minor Outlying Islands",
              "Uruguay",
              "United States",
              "Uzbekistan",
              "Holy See (Vatican City State)",
              "Saint Vincent and the Grenadines",
              "Venezuela, Bolivarian Republic of",
              "Virgin Islands, British",
              "Virgin Islands, U.S.",
              "Viet Nam",
              "Vanuatu",
              "Wallis and Futuna",
              "Samoa",
              "Yemen",
              "South Africa",
              "Zambia",
              "Zimbabwe"
            ],
            "_view_count": null,
            "_view_module": "@jupyter-widgets/controls",
            "_view_module_version": "1.5.0",
            "_view_name": "DropdownView",
            "description": "Country:",
            "description_tooltip": null,
            "disabled": false,
            "index": 206,
            "layout": "IPY_MODEL_1028693f8ead4d2daf3e7b0a8688ff8e",
            "style": "IPY_MODEL_79b76c9730f6480f9ea4710fa8112a2f"
          }
        }
      }
    }
  },
  "nbformat": 4,
  "nbformat_minor": 0
}
