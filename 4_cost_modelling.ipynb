{
  "cells": [
    {
      "cell_type": "markdown",
      "metadata": {},
      "source": [
        "<a href=\"https://colab.research.google.com/github/FNS-Division/geopython-2025/blob/main/4_cost_modelling.ipynb\" target=\"_parent\"><img src=\"https://colab.research.google.com/assets/colab-badge.svg\" alt=\"Open In Colab\"/></a>"
      ]
    },
    {
      "cell_type": "markdown",
      "metadata": {
        "id": "xMamukGjupWM"
      },
      "source": [
        "![Logo](https://www.itu.int/web/pp-18/assets/logo/itu_logo.png)"
      ]
    },
    {
      "cell_type": "markdown",
      "metadata": {
        "id": "GMJZ6d9piZ3m"
      },
      "source": [
        "# Cost analysis"
      ]
    },
    {
      "cell_type": "markdown",
      "metadata": {
        "id": "UZfFGOmB308J"
      },
      "source": [
        "In this notebook, we will:\n",
        "\n",
        "- Load the results from our previous exercises done on QGIS\n",
        "- Asssess which technologies are feasible for each school\n",
        "- Estimate the cost (CAPEX and OPEX) of connecting schools with each technology\n",
        "- Select the option among those feasible that maximizes operator net revenue\n",
        "- Display the costs and revenues for this solution\n",
        "- Display the technology assignment results on a map"
      ]
    },
    {
      "cell_type": "markdown",
      "metadata": {
        "id": "bl_KaWBNiZ3m"
      },
      "source": [
        "## Setting up our Python environment"
      ]
    },
    {
      "cell_type": "markdown",
      "metadata": {
        "id": "QoAerDlniZ3n"
      },
      "source": [
        "We import Python libraries needed for our cost analysis:\n",
        "\n",
        "- Computing libraries (`pandas`, `numpy`) for calculations\n",
        "- GIS libraries (`geopandas`) for mapping\n",
        "- Visualization libraries (`matplotlib`, `folium`, `seaborn`) for creating graphs and maps\n",
        "\n",
        "These will help us analyze and visualize the costs of different connectivity options."
      ]
    },
    {
      "cell_type": "code",
      "execution_count": 1,
      "metadata": {
        "id": "jKsfdjwriZ3n"
      },
      "outputs": [],
      "source": [
        "# Data handling\n",
        "import pandas as pd\n",
        "import numpy as np\n",
        "\n",
        "# Graph and spatial libraries\n",
        "import geopandas as gpd\n",
        "\n",
        "# Visualization\n",
        "import matplotlib.pyplot as plt\n",
        "import folium\n",
        "import seaborn as sns\n",
        "from matplotlib.ticker import FuncFormatter\n",
        "\n",
        "# Notebook interaction and display\n",
        "import ipywidgets as widgets\n",
        "from IPython.display import display"
      ]
    },
    {
      "cell_type": "markdown",
      "metadata": {
        "id": "N2enwCHniZ3o"
      },
      "source": [
        "## Set analysis parameters"
      ]
    },
    {
      "cell_type": "markdown",
      "metadata": {
        "id": "uxTVg4D0iZ3o"
      },
      "source": [
        "We create an interactive interface to set important cost variables for different connection technologies (Fiber, Cellular, Point-to-Point, and Satellite).\n",
        "\n",
        "For each technology, we can adjust:\n",
        "\n",
        "- **CAPEX**: One-time installation costs (equipment, setup) in USD\n",
        "- **OPEX**: Ongoing yearly costs (maintenance, service fees) in USD\n",
        "- **ARPU**: Annual Revenue Per User (expected income per person) in USD\n",
        "\n",
        "We also set the **maximum fiber cable length** per school and **analysis timeframe** in years."
      ]
    },
    {
      "cell_type": "markdown",
      "metadata": {
        "id": "CQ7lDcd2Hg4I"
      },
      "source": [
        "**Estimating Number of Users:**\n",
        "\n",
        "- In our case, the number of users is the number of pupils who will access the internet at each school.\n",
        "- First, we count the number of residents living within each school's radius (see figure).\n",
        "- Then, we multiply the number of residents by the percentage of school-age population.\n",
        "\n",
        "This gives us our estimated number of users per 100 residents in a radius around each school.\n",
        "\n",
        "_Table. Number of internet users in Sao Tome and Principe._\n",
        "\n",
        "| Metric | Value | Source |\n",
        "|--------|--------|---------|\n",
        "| Population of School Age (%) | 15.74 | [UNESCO](https://data.uis.unesco.org/index.aspx?queryid=3847) |\n",
        "| Users per 100 Residents | 15.74 | - |\n",
        "\n",
        "_Figure. 1km buffers around schools overlaid with population data._\n",
        "\n",
        "<a href=\"https://ibb.co/dB09sHB\"><img src=\"https://i.ibb.co/9n9Xmdn/demand-buffers.jpg\" alt=\"demand-buffers\" border=\"0\"></a>"
      ]
    },
    {
      "cell_type": "markdown",
      "metadata": {
        "id": "-gdLKa15IMu3"
      },
      "source": [
        "**Estimating Annual Revenue per User (ARPU):**\n",
        "\n",
        "- Start with the monthly cost of an appropriate data bundle.\n",
        "- Multiply by the number of school months in the year.\n",
        "\n",
        "A note about operator revenues:\n",
        "\n",
        "- We use mobile internet costs as our baseline.\n",
        "- This is because mobile cost data *per user* is widely available.\n",
        "\n",
        "_Table. Operator revenues in Sao Tome and Principe._\n",
        "\n",
        "| Metric | Value | Source |\n",
        "|--------|--------|---------|\n",
        "| Monthly Cost of 15GB Data (USD) | 25.00 | [Mobile Telecommunications Company (MTC)](https://mtc.com.na/contract/databundle/1506) |\n",
        "| School Year Duration (months) | 9.00 | Education System Data |\n",
        "| Annual Revenue Per User (USD) | 225 |  |"
      ]
    },
    {
      "cell_type": "code",
      "execution_count": null,
      "metadata": {
        "cellView": "form",
        "colab": {
          "base_uri": "https://localhost:8080/",
          "height": 239,
          "referenced_widgets": [
            "220f41c718dd4388b0c171e1781ef9c1",
            "9dd13bc1366e4ae588c87232244d26e5",
            "e95a3d9f48674a7dbd68bea6d81c81ec",
            "dd7ead3985df4ce8a1c3d569d75f4f17",
            "d9dfc7ebcca940ba81a618576da7784b",
            "640d100019dd483184e521b217feae01",
            "516da9b9a1644e39967315d470a5d765",
            "b8f92ad8622649828c52938830bb39b1",
            "7a953921768b4cc3b006568f205cb1cb",
            "26239eb7ad324778b5787b5762f5dc51",
            "302e9e2a662d457fa37e01fcc33964ad",
            "ca5e8417cabe4dbaad6763a67c455764",
            "591318c914d9430a8c14cf0025a57caf",
            "62f874aa98b34233af3295f17a61bf9a",
            "905ebe0f71724224acec366ea21487d2",
            "29e45896608f4163815bad8ecdde1b8b",
            "5f49c9eeda624f3cbbdac2106170e11a",
            "f390cc0f4ec14e90a19f153f9d0b1ea8",
            "4394c28e692f446fb75f151473a4c564",
            "cd410f5d3de04414b47bb9a95d35d8e2",
            "d5d86a72847542e99bdc6d6d354b8c07",
            "8810d50cfa81435e821c7d128c9838eb",
            "836738fcde1e42da9dd6d5acd21fbc27",
            "47e1a330778c4dfbabf01d25e604c193",
            "7233d98bb388410d9532cbc161690df4",
            "0d5192e92ad54d518b57257d753e3b24",
            "41d0f38bd8ba472f98ead3ef7a65f96a",
            "86513fc1607c4a7195231b8bd2ae60e4",
            "115d7931d4fa43638cbcc62762afb458",
            "29bb62349b684dfebd7fadd88a8293bb",
            "5ba139379d4d41e5bc5ad0b3f52b0686",
            "a6fbace85986497c9153ad08d54cfc50",
            "fd8b80e5836d4ec597d57d3e08de8f8a",
            "8a9852b1e0354600a492ed535eb136b8",
            "bf25ac888d984f77b9eed20576f58ec5",
            "b2ab7dcea5aa4e268f03e7278fc0f129",
            "42901c6063be4604a0907390e01aa74b",
            "d863b929b9d448f5b29e429f275a5f3d",
            "cff8fbc801aa458688b53cdfe16ddeae",
            "bc310fb87f4a4bd0912ddf24264bbbf7",
            "4feb135ab8c940a78bb50e4ed4ffd846",
            "2c238eee1bdc48fc84a6b0de2adbefc0",
            "4d9758fc27094289860b181a97f319f2",
            "01c51bda5ddc4229b9c50509ed1ccb2f",
            "85a3809a91ec409ba2d2d391ec4ca935",
            "3f0a825c66104005a64f1e1b03e4acd7",
            "7bb23ad1738b44419fb2db0e3f8ad62c",
            "8647853e55934d97a98cb593a4aff954",
            "d522c3dc60da45bb870f3b05e7942daf",
            "3edcf5d0933e4e348c82eb2392d4c4aa",
            "bc27807128d8405bb1f3b6dbde483651",
            "10eeaaf5437b45c3a7bcc4c5c513af74",
            "f4219c437ee848b39bd3320882af1b83",
            "4c5a09929bbe4fdc8d1b1f2c5b94e7c2",
            "d21236c4e5844f11b646dda1109970f5",
            "559faa24f00d42118e201a6ca10f6824",
            "a84bcefeee1247ddb478dd6a24ee2641",
            "968ca1bdac7747f0915ff88af1259d1a"
          ]
        },
        "id": "wu53w8R6iZ3o",
        "outputId": "2642cb1a-5561-4e6b-c070-19fdb1901e14"
      },
      "outputs": [],
      "source": [
        "# @title Cost parameters\n",
        "# Common layout for all widgets\n",
        "# Custom Styling\n",
        "box_style = \"background-color: #f9f9f9; padding: 10px; border-radius: 10px; margin-bottom: 10px;\"\n",
        "title_style = \"font-size:16px; font-weight:bold; color:#444;\"\n",
        "\n",
        "# Common Layout for all widgets\n",
        "item_layout = widgets.Layout(width='95%', flex='1 1 auto')\n",
        "\n",
        "# Parameters for each technology\n",
        "technologies = ['fiber', 'p2area', 'p2p', 'satellite']\n",
        "tech_controls = {}\n",
        "\n",
        "for tech in technologies:\n",
        "    tech_controls[tech] = {\n",
        "        'CAPEX': widgets.FloatSlider(\n",
        "            description='CAPEX (USD):',\n",
        "            min=0, max=10000, step=1, value=1000,\n",
        "            layout=item_layout, style={'description_width': 'initial'}, readout_format=',.0f'\n",
        "        ),\n",
        "        'OPEX': widgets.FloatSlider(\n",
        "            description='OPEX (USD):',\n",
        "            min=0, max=5000, step=1, value=500,\n",
        "            layout=item_layout, style={'description_width': 'initial'}, readout_format=',.0f'\n",
        "        ),\n",
        "        'ARPU': widgets.FloatSlider(\n",
        "            description='ARPU (USD):',\n",
        "            min=0, max=500, step=1, value=225,\n",
        "            layout=item_layout, style={'description_width': 'initial'}, readout_format=',.0f'\n",
        "        )\n",
        "    }\n",
        "\n",
        "    # Add max fiber length parameter only to Fiber\n",
        "    if tech == 'fiber':  # FIX: Corrected case sensitivity\n",
        "        tech_controls[tech]['max_length'] = widgets.FloatSlider(\n",
        "            description='Max Fiber Length (km):',\n",
        "            min=0, max=50, step=1, value=25,\n",
        "            layout=item_layout, style={'description_width': 'initial'}, readout_format=',.0f'\n",
        "        )\n",
        "\n",
        "# Overall parameters\n",
        "num_years = widgets.IntSlider(\n",
        "    description='Number of years:', min=1, max=50, step=1, value=10,\n",
        "    layout=item_layout, style={'description_width': 'initial'}, readout_format=',.0f'\n",
        ")\n",
        "\n",
        "users_per_pop = widgets.FloatSlider(\n",
        "    description='Users per 100 residents:', min=0, max=100, step=1, value=16,\n",
        "    layout=item_layout, style={'description_width': 'initial'}, readout_format=',.3f'\n",
        ")\n",
        "\n",
        "# Arrange controls in a visually appealing layout\n",
        "tech_layouts = []\n",
        "for tech, controls in tech_controls.items():\n",
        "    tech_layouts.append(\n",
        "        widgets.VBox(\n",
        "            [widgets.HTML(value=f\"<div style='{title_style}'>{tech.capitalize()}</div>\")] +\n",
        "            [controls[param] for param in controls],\n",
        "            layout=widgets.Layout(\n",
        "                border='solid 1px #ddd', padding='10px', margin='5px',\n",
        "                background='#f5f5f5', border_radius='8px'\n",
        "            )\n",
        "        )\n",
        "    )\n",
        "\n",
        "overall_layout = widgets.VBox(\n",
        "    [widgets.HTML(value=f\"<div style='{title_style}'>Overall Parameters</div>\"), num_years, users_per_pop],\n",
        "    layout=widgets.Layout(padding='10px', margin='5px', background='#f0f0f0', border_radius='8px')\n",
        ")\n",
        "\n",
        "# Use Tabs for better organization\n",
        "tab = widgets.Tab()\n",
        "tab.children = [overall_layout] + tech_layouts\n",
        "for i, title in enumerate([\"Overall\"] + [t.capitalize() for t in technologies]):\n",
        "    tab.set_title(i, title)\n",
        "\n",
        "# Set default values\n",
        "tech_controls['satellite']['CAPEX'].value = 8000  # High one-time cost\n",
        "tech_controls['satellite']['OPEX'].value = 4000   # High annual maintenance\n",
        "\n",
        "tech_controls['p2p']['CAPEX'].value = 2000\n",
        "tech_controls['p2p']['OPEX'].value = 800\n",
        "\n",
        "tech_controls['p2area']['CAPEX'].value = 1500   # Slightly cheaper than P2P\n",
        "tech_controls['p2area']['OPEX'].value = 600     # Slightly cheaper than P2P\n",
        "\n",
        "tech_controls['fiber']['CAPEX'].value = 4000      # Medium one-time cost\n",
        "tech_controls['fiber']['OPEX'].value = 2000       # Medium annual maintenance\n",
        "\n",
        "# Convert to scalars\n",
        "user_ratio = users_per_pop.value / 100\n",
        "years = num_years.value\n",
        "fiber_max_length = tech_controls['fiber']['max_length'].value\n",
        "fiber_arpu = tech_controls['fiber']['ARPU'].value\n",
        "p2area_arpu = tech_controls['p2area']['ARPU'].value\n",
        "p2p_arpu = tech_controls['p2p']['ARPU'].value\n",
        "satellite_arpu = tech_controls['satellite']['ARPU'].value\n",
        "fiber_capex = tech_controls['fiber']['CAPEX'].value\n",
        "p2area_capex = tech_controls['p2area']['CAPEX'].value\n",
        "p2p_capex = tech_controls['p2p']['CAPEX'].value\n",
        "satellite_capex = tech_controls['satellite']['CAPEX'].value\n",
        "fiber_opex = tech_controls['fiber']['OPEX'].value\n",
        "p2area_opex = tech_controls['p2area']['OPEX'].value\n",
        "p2p_opex = tech_controls['p2p']['OPEX'].value\n",
        "satellite_opex = tech_controls['satellite']['OPEX'].value\n",
        "\n",
        "# Display the tab layout\n",
        "display(tab)"
      ]
    },
    {
      "cell_type": "markdown",
      "metadata": {
        "id": "p2FB7H42iZ3o"
      },
      "source": [
        "## Import files"
      ]
    },
    {
      "cell_type": "markdown",
      "metadata": {
        "id": "A89JwPp4iZ3q"
      },
      "source": [
        "### Results from previous analyses"
      ]
    },
    {
      "cell_type": "markdown",
      "metadata": {
        "id": "sYTQ3Vn0MyiI"
      },
      "source": [
        "We load our previously calculated analysis results:\n",
        "\n",
        "- **Proximity data**: distances to existing infrastructure\n",
        "- **Coverage data**: which areas have cellular service\n",
        "- **Demand data**: number of potential users near each school\n",
        "- **Visibility data**: line-of-sight between schools and towers\n",
        "- **Fiber path data**: distance between schools and fiber nodes\n",
        "\n",
        "This gives us the foundation for our revenue and cost calculations."
      ]
    },
    {
      "cell_type": "code",
      "execution_count": null,
      "metadata": {
        "colab": {
          "base_uri": "https://localhost:8080/",
          "height": 238
        },
        "id": "RcDGy5-qiZ3q",
        "outputId": "d2cbaf4b-ad61-471c-af06-4c9deeca34b4"
      },
      "outputs": [],
      "source": [
        "# STEP 1: Load results from previous analyses using Geopandas\n",
        "# The file contains the proximity, coverage, demand, fiber path and visibility analyses\n",
        "merged_results = gpd.read_file(\"https://zstagigaprodeuw1.blob.core.windows.net/gigainframapkit-public-container/stp/outputs/merged_results.geojson\")\n",
        "\n",
        "# STEP 2: Set up the table to use school_id as the main identifier\n",
        "merged_results = merged_results.set_index(\"school_id\")\n",
        "\n",
        "# STEP 3: Show the first few rows of data to check what we loaded\n",
        "merged_results.head()"
      ]
    },
    {
      "cell_type": "code",
      "execution_count": null,
      "metadata": {},
      "outputs": [],
      "source": [
        "# We can inspect the data types in the dataframe\n",
        "# cell_site_distance, fiber_node_distance and population_1km are float64 (numerical)\n",
        "# coverage and visible are bool (`True` or `False`)\n",
        "# geometry is geometry (a geospatial column type)\n",
        "merged_results.dtypes"
      ]
    },
    {
      "cell_type": "code",
      "execution_count": null,
      "metadata": {},
      "outputs": [],
      "source": [
        "# To select column 'coverage', use square brackets\n",
        "merged_results['coverage']"
      ]
    },
    {
      "cell_type": "code",
      "execution_count": null,
      "metadata": {},
      "outputs": [],
      "source": [
        "# To select the row for school 1, use .loc and square bracketswith the index\n",
        "merged_results.loc[1]"
      ]
    },
    {
      "cell_type": "code",
      "execution_count": null,
      "metadata": {
        "colab": {
          "base_uri": "https://localhost:8080/",
          "height": 448
        },
        "id": "6PyqQc0DiApq",
        "outputId": "38e7ceb1-5319-4dec-e304-01dc77d14fd9"
      },
      "outputs": [],
      "source": [
        "# We can quickly plot the merged_results GeoDataFrame to see the locations of schools using the plot() method\n",
        "merged_results.plot()"
      ]
    },
    {
      "cell_type": "code",
      "execution_count": 5,
      "metadata": {
        "id": "SLAIZOt3iLHD"
      },
      "outputs": [],
      "source": [
        "# We also load the 4G coverage contours again, so we can display them later on\n",
        "coverage_4G = gpd.read_file(\"https://zstagigaprodeuw1.blob.core.windows.net/gigainframapkit-public-container/namibia/NAM_4G_coverage.geojson\")"
      ]
    },
    {
      "cell_type": "markdown",
      "metadata": {
        "id": "R1Gq2QndiZ3q"
      },
      "source": [
        "## Assess feasibility of technologies for each school"
      ]
    },
    {
      "cell_type": "markdown",
      "metadata": {
        "id": "08yFty9LiZ3q"
      },
      "source": [
        "We determine which connection technologies are possible for each school based on:\n",
        "\n",
        "- **Fiber**: Is it close enough to existing fiber networks?\n",
        "- **Cellular**: Is it in an area with coverage?\n",
        "- **Point-to-Point**: Does it have line-of-sight to towers?\n",
        "- **Satellite**: Always feasible, but often more expensive.\n",
        "\n",
        "This helps eliminate impossible options before cost analysis."
      ]
    },
    {
      "cell_type": "code",
      "execution_count": 6,
      "metadata": {
        "id": "tpc-5GcriZ3q"
      },
      "outputs": [],
      "source": [
        "# Create a new table to track which technologies are possible for each school\n",
        "feasibility = merged_results.copy()\n",
        "\n",
        "# Check if FIBER is possible:\n",
        "# Create a boolean column (True/False) based on the distance to the nearest fiber node\n",
        "feasibility[\"fiber_feasible\"] = feasibility[\"fiber_node_distance\"] <= fiber_max_length*1000\n",
        "\n",
        "# Check if CELLULAR (P2AREA) is possible:\n",
        "# Use existing coverage information (True/False)\n",
        "feasibility[\"p2area_feasible\"] = feasibility[\"coverage\"]\n",
        "\n",
        "# Check if POINT-TO-POINT (P2P) is possible:\n",
        "# Use existing line-of-sight visibility information (True/False)\n",
        "feasibility[\"p2p_feasible\"] = feasibility[\"visible\"]\n",
        "\n",
        "# Check if SATELLITE is possible:\n",
        "# Satellite is always feasible since it works everywhere\n",
        "feasibility[\"satellite_feasible\"] = True\n",
        "\n",
        "# Keep only the columns that show what's feasible\n",
        "feasibility = feasibility[[\"fiber_feasible\",\n",
        "                          \"p2area_feasible\",\n",
        "                          \"p2p_feasible\",\n",
        "                          \"satellite_feasible\"]]"
      ]
    },
    {
      "cell_type": "code",
      "execution_count": null,
      "metadata": {
        "colab": {
          "base_uri": "https://localhost:8080/",
          "height": 238
        },
        "id": "T7QRKCmFiZ3r",
        "outputId": "5bed9668-d95f-4010-9a51-14a6107de71f"
      },
      "outputs": [],
      "source": [
        "# Display feasibility, showing the first few rows\n",
        "# We have four boolean (True/False) columns, one for each technology\n",
        "feasibility.head()"
      ]
    },
    {
      "cell_type": "code",
      "execution_count": null,
      "metadata": {
        "cellView": "form",
        "colab": {
          "base_uri": "https://localhost:8080/",
          "height": 606
        },
        "id": "kNL99W4fiZ3r",
        "outputId": "2902d8b5-cffa-4b80-c3e7-18e2b643a9ae"
      },
      "outputs": [],
      "source": [
        "# @title Figure: Technology Feasibility\n",
        "# Create feasibility counts for bar chart\n",
        "feasibility_counts = {\n",
        "   'fiber': feasibility['fiber_feasible'].sum(),\n",
        "   'p2area': feasibility['p2area_feasible'].sum(),\n",
        "   'p2p': feasibility['p2p_feasible'].sum(),\n",
        "   'satellite': feasibility['satellite_feasible'].sum()\n",
        "}\n",
        "color_map = {\n",
        "   'p2area': '#1b9e77',\n",
        "   'satellite': '#d95f02',\n",
        "   'fiber': '#7570b3',\n",
        "   'p2p': '#e7298a',\n",
        "   'unconnected': '#bababa'\n",
        "}\n",
        "plt.figure(figsize=(10, 6))\n",
        "technologies = list(feasibility_counts.keys())\n",
        "counts = list(feasibility_counts.values())\n",
        "colors = [color_map[tech] for tech in technologies]\n",
        "plt.bar(technologies, counts, color=colors)\n",
        "plt.title('Count of feasible technologies', pad=20)\n",
        "plt.xlabel('Technology')\n",
        "plt.ylabel('Number of schools')\n",
        "plt.grid(axis='y', linestyle='--', alpha=0.7)\n",
        "plt.gca().yaxis.set_major_formatter(FuncFormatter(lambda x, p: format(int(x), ',')))\n",
        "plt.tight_layout()"
      ]
    },
    {
      "cell_type": "markdown",
      "metadata": {
        "id": "GO5z4fgtiZ3r"
      },
      "source": [
        "## Compute operator revenues for each school and technology"
      ]
    },
    {
      "cell_type": "markdown",
      "metadata": {
        "id": "OO_9c03giZ3r"
      },
      "source": [
        "For each feasible technology at each school, we calculate the potential revenue. This shows which technologies might be profitable for service providers - as summarised in the figure below."
      ]
    },
    {
      "cell_type": "markdown",
      "metadata": {
        "id": "MwJrQLsX4N7w"
      },
      "source": [
        "\n",
        "_Figure. Net revenue._\n",
        "\n",
        "<a href=\"https://ibb.co/3sy1qTr\"><img src=\"https://i.ibb.co/LPzSW0k/net-revenues.jpg\" alt=\"net-revenues\" border=\"0\"></a>"
      ]
    },
    {
      "cell_type": "code",
      "execution_count": 26,
      "metadata": {
        "id": "Lqwr63ZRiZ3r"
      },
      "outputs": [],
      "source": [
        "# Make a fresh copy of our results table to store revenue calculations\n",
        "net_revenues = merged_results.copy()\n",
        "\n",
        "# FIBER CALCULATIONS\n",
        "  # Calculate yearly revenue: monthly fee × number of users (population × users per 100 residents)\n",
        "fiber_annual_revenue = fiber_arpu * merged_results[\"population_1km\"] * user_ratio\n",
        "  # Calculate total costs: one-time setup cost + (yearly OPEX × number of years)\n",
        "fiber_total_costs = fiber_capex + fiber_opex * years\n",
        "  # Calculate profit: (yearly revenue × number of years) - total costs\n",
        "net_revenues[\"fiber_net_revenue\"] = fiber_annual_revenue * years - fiber_total_costs\n",
        "\n",
        "# CELLULAR (P2AREA) CALCULATIONS\n",
        "cellular_annual_revenue = p2area_arpu * merged_results[\"population_1km\"] * user_ratio\n",
        "cellular_total_costs = p2area_capex + p2area_opex * years\n",
        "net_revenues[\"p2area_net_revenue\"] = cellular_annual_revenue * years - cellular_total_costs\n",
        "\n",
        "# POINT-TO-POINT (P2P) CALCULATIONS\n",
        "p2p_annual_revenue = p2p_arpu * merged_results[\"population_1km\"] * user_ratio\n",
        "p2p_total_costs = p2p_capex + p2p_opex * years\n",
        "net_revenues[\"p2p_net_revenue\"] = p2p_annual_revenue * years - p2p_total_costs\n",
        "\n",
        "# SATELLITE CALCULATIONS\n",
        "satellite_annual_revenue = satellite_arpu * merged_results[\"population_1km\"] * user_ratio\n",
        "satellite_total_costs = satellite_capex + satellite_opex * years\n",
        "net_revenues[\"satellite_net_revenue\"] = satellite_annual_revenue * years - satellite_total_costs\n",
        "\n",
        "# Keep only the columns showing profit/loss for each technology\n",
        "net_revenues = net_revenues[[\"fiber_net_revenue\", \"p2area_net_revenue\",\n",
        "                           \"p2p_net_revenue\", \"satellite_net_revenue\"]]"
      ]
    },
    {
      "cell_type": "code",
      "execution_count": 10,
      "metadata": {
        "id": "rBYae7Vr-y9X"
      },
      "outputs": [],
      "source": [
        "# Create a summary table showing costs for each technology\n",
        "costs = pd.DataFrame({\n",
        "    'technology': ['fiber', 'p2area', 'p2p', 'satellite'],\n",
        "    'total_cost': [fiber_total_costs, cellular_total_costs,\n",
        "                   p2p_total_costs, satellite_total_costs]\n",
        "})\n",
        "# Add a column showing yearly cost (total cost divided by number of years)\n",
        "costs[\"annual_cost\"] = costs[\"total_cost\"] / years\n",
        "\n",
        "# Set cost to missing if technology is not feasible\n",
        "for tech in ['fiber', 'p2area', 'p2p', 'satellite']:\n",
        "    net_revenues.loc[~feasibility[f'{tech}_feasible'], f'{tech}_net_revenue'] = np.nan"
      ]
    },
    {
      "cell_type": "code",
      "execution_count": null,
      "metadata": {
        "colab": {
          "base_uri": "https://localhost:8080/",
          "height": 175
        },
        "id": "D0ABo3XqHa83",
        "outputId": "4687427f-2659-4a9c-eb67-d7664a54d1c9"
      },
      "outputs": [],
      "source": [
        "# Display costs\n",
        "# Here, fiber cost does not vary by length of fiber required\n",
        "costs"
      ]
    },
    {
      "cell_type": "markdown",
      "metadata": {
        "id": "VQ8Y8Hlx8V3a"
      },
      "source": [
        "First, we compare the annual costs (CAPEX and OPEX) for the different technologies."
      ]
    },
    {
      "cell_type": "code",
      "execution_count": null,
      "metadata": {
        "cellView": "form",
        "colab": {
          "base_uri": "https://localhost:8080/",
          "height": 607
        },
        "id": "Z68VmHiQTpXy",
        "outputId": "9b039670-d9be-4ce7-e3f1-8750a34b24c4"
      },
      "outputs": [],
      "source": [
        "# @title Figure: annual costs per school\n",
        "# Calculate total cost per school for each technology\n",
        "\n",
        "# Create the plot\n",
        "plt.figure(figsize=(10, 6))\n",
        "sns.barplot(data=costs,\n",
        "            x='technology',\n",
        "            y='annual_cost',\n",
        "            hue='technology',\n",
        "            legend=False,\n",
        "            palette=color_map)\n",
        "\n",
        "plt.title(f'Annual Costs by Technology (CAPEX and OPEX)')\n",
        "plt.ylabel('Annual Cost (USD)')\n",
        "plt.xticks(rotation=0)\n",
        "plt.gca().yaxis.set_major_formatter(FuncFormatter(lambda x, p: format(int(x), ',')))\n",
        "plt.tight_layout()\n",
        "plt.show()"
      ]
    },
    {
      "cell_type": "markdown",
      "metadata": {
        "id": "Pb_si7df8aiy"
      },
      "source": [
        "Then, we compare the revenues associated with each school and technology pair. In this chart below, each dot represents a profit for a school and the bar is the median. Within each technology, schools with a higher number of users have a higher revenue and schools where the technology is not feasible do not appear in the chart."
      ]
    },
    {
      "cell_type": "code",
      "execution_count": null,
      "metadata": {
        "cellView": "form",
        "colab": {
          "base_uri": "https://localhost:8080/",
          "height": 607
        },
        "id": "VhuWT7JmiZ3r",
        "outputId": "40c029ec-ee1b-4b0e-ad30-0fa51289462e"
      },
      "outputs": [],
      "source": [
        "# @title Figure: Net Revenues by Technology\n",
        "# Box plot of net revenues by technology\n",
        "data = net_revenues[['fiber_net_revenue', 'p2area_net_revenue', 'p2p_net_revenue', 'satellite_net_revenue']].melt(\n",
        "   var_name='Technology',\n",
        "   value_name='Revenue'\n",
        ")\n",
        "data['Technology'] = data['Technology'].str.replace('_net_revenue', '')\n",
        "plt.figure(figsize=(10, 6))\n",
        "sns.boxplot(x='Technology', y='Revenue', data=data, palette=color_map, hue='Technology',\n",
        "            showfliers=False, showbox=False, showcaps=False, showmeans=True, meanline=True,\n",
        "            meanprops={'color': 'k', 'ls': '-', 'lw': 2},\n",
        "            medianprops={'visible': False},\n",
        "            whiskerprops={'visible': False},\n",
        "            zorder=10)\n",
        "\n",
        "sns.stripplot(x='Technology', y='Revenue', data=data, alpha=0.5, jitter=True, palette=color_map, hue='Technology')\n",
        "plt.xlabel('')\n",
        "plt.ylabel('Net Revenue (USD) over Planning Period')\n",
        "plt.title('Distribution of Net Revenues by Technology')\n",
        "plt.gca().yaxis.set_major_formatter(FuncFormatter(lambda x, _: f'{int(x):,}'))\n",
        "plt.tight_layout()\n",
        "plt.show()"
      ]
    },
    {
      "cell_type": "markdown",
      "metadata": {
        "id": "q7pQBjQAiZ3r"
      },
      "source": [
        "## Assign a technology to each school by maximizing operator revenue"
      ]
    },
    {
      "cell_type": "markdown",
      "metadata": {
        "id": "ZzkTHA6yiZ3r"
      },
      "source": [
        "We assign the best technology for each school by:\n",
        "\n",
        "1. Considering **only feasible** options.\n",
        "2. Among the feasible options, selecting the technology with **highest net revenue**.\n",
        "3. Marking schools where no options exist as **unconnected**.\n",
        "\n",
        "This helps identify the most economically viable connection method for each school."
      ]
    },
    {
      "cell_type": "code",
      "execution_count": 14,
      "metadata": {
        "id": "Hjrx65gblLhq"
      },
      "outputs": [],
      "source": [
        "# STEP 1: Find the most profitable technology for each school\n",
        "# List all our revenue columns for each technology\n",
        "revenue_cols = ['fiber_net_revenue', 'p2area_net_revenue',\n",
        "                'p2p_net_revenue', 'satellite_net_revenue']\n",
        "\n",
        "# For each school, find which technology gives the highest revenue\n",
        "# The idxmax function returns the column name with the highest value\n",
        "# Then we clean up the column by removing '_net_revenue' from the end\n",
        "net_revenues['technology'] = net_revenues[revenue_cols].idxmax(axis=1).str.replace('_net_revenue', '')\n",
        "\n",
        "# STEP 2: Handle schools with no viable options\n",
        "# Check which schools have no revenue data at all (all values are missing)\n",
        "mask = net_revenues[revenue_cols].isna().all(axis=1)\n",
        "# For these schools, mark them as \"unconnected\"\n",
        "net_revenues.loc[mask, 'technology'] = \"unconnected\"\n",
        "\n",
        "# STEP 3: Add cost information for each school's selected technology, so everything is in the same table\n",
        "# First reset the index to make school_id a regular column\n",
        "# Then merge with costs table based on the selected technology\n",
        "# Finally, put school_id back as the index\n",
        "net_revenues = pd.merge(net_revenues.reset_index(),\n",
        "                       costs,\n",
        "                       on='technology',\n",
        "                       how='left').set_index(\"school_id\")"
      ]
    },
    {
      "cell_type": "code",
      "execution_count": null,
      "metadata": {
        "colab": {
          "base_uri": "https://localhost:8080/",
          "height": 238
        },
        "id": "brFeFQvJOBJR",
        "outputId": "46f1b684-f81b-458b-f06a-2b0dfca3e83d"
      },
      "outputs": [],
      "source": [
        "# Display net revenues again, this time with technology selection\n",
        "net_revenues.head()"
      ]
    },
    {
      "cell_type": "markdown",
      "metadata": {
        "id": "8ZM2bFqNiZ3r"
      },
      "source": [
        "## Visualize the technology assignment"
      ]
    },
    {
      "cell_type": "markdown",
      "metadata": {
        "id": "d-0Fh17uiZ3r"
      },
      "source": [
        "We create two main visualizations:\n",
        "\n",
        "1. **Bar Chart**: Shows how many schools are assigned to each technology\n",
        "2. **Interactive Map**: Displays schools color-coded by their assigned technology"
      ]
    },
    {
      "cell_type": "markdown",
      "metadata": {
        "id": "vYJnaySSiZ3s"
      },
      "source": [
        "### Bar chart"
      ]
    },
    {
      "cell_type": "code",
      "execution_count": null,
      "metadata": {
        "cellView": "form",
        "colab": {
          "base_uri": "https://localhost:8080/",
          "height": 606
        },
        "id": "bgpRUvg8iZ3s",
        "outputId": "831d6e91-a94c-4509-a480-23f265c45bde"
      },
      "outputs": [],
      "source": [
        "# @title Figure: Distribution of Selected Technologies\n",
        "plt.figure(figsize=(10, 6))\n",
        "sns.barplot(data=net_revenues[\"technology\"].value_counts().reset_index(),\n",
        "           x=\"technology\",\n",
        "           y=\"count\",\n",
        "           palette=color_map,\n",
        "           hue=\"technology\")\n",
        "plt.title('Distribution of Selected Technologies', pad=20)\n",
        "plt.xlabel('Technology')\n",
        "plt.ylabel('Number of schools')\n",
        "plt.xticks(rotation=0)\n",
        "plt.grid(axis='y', linestyle='--', alpha=0.7)\n",
        "plt.gca().yaxis.set_major_formatter(FuncFormatter(lambda x, p: format(int(x), ',')))\n",
        "plt.tight_layout()"
      ]
    },
    {
      "cell_type": "code",
      "execution_count": null,
      "metadata": {
        "cellView": "form",
        "colab": {
          "base_uri": "https://localhost:8080/",
          "height": 807
        },
        "id": "dQYiXXD6WC16",
        "outputId": "d9988a43-29c7-45e2-a1f8-7a9b7c96ecfb"
      },
      "outputs": [],
      "source": [
        "# @title Figure: Breakdown of Total Costs\n",
        "plt.figure(figsize=(10, 8))\n",
        "cost_data = net_revenues.groupby(\"technology\")[\"total_cost\"].sum()\n",
        "plt.pie(cost_data,\n",
        "        labels=[tech.capitalize() for tech in cost_data.index],\n",
        "        colors=[color_map[tech] for tech in cost_data.index],\n",
        "        autopct='%1.1f%%',\n",
        "        startangle=90,\n",
        "        pctdistance=0.85,\n",
        "        wedgeprops=dict(width=0.5))\n",
        "plt.title('Breakdown of Total Costs by Technology', pad=20)\n",
        "plt.tight_layout()"
      ]
    },
    {
      "cell_type": "markdown",
      "metadata": {
        "id": "11yZMKiCiZ3s"
      },
      "source": [
        "### Map"
      ]
    },
    {
      "cell_type": "code",
      "execution_count": 18,
      "metadata": {
        "cellView": "form",
        "id": "O1_7bukRiZ3s"
      },
      "outputs": [],
      "source": [
        "# @title Figure: Interactive Map\n",
        "def plot_points_by_technology(points_gdf, color_map, coverage_gdf=None, title=\"Points by Technology\", zoom=6):\n",
        "    \"\"\"\n",
        "    Create an interactive map with points colored by selected technology and optional 4G coverage\n",
        "    \"\"\"\n",
        "    if points_gdf.crs != \"EPSG:4326\":\n",
        "        points_gdf = points_gdf.to_crs(\"EPSG:4326\")\n",
        "\n",
        "    center_lat = points_gdf.geometry.y.mean()\n",
        "    center_lon = points_gdf.geometry.x.mean()\n",
        "    m = folium.Map(location=[center_lat, center_lon], zoom_start=zoom)\n",
        "\n",
        "    # Add 4G coverage layer if provided\n",
        "    if coverage_gdf is not None:\n",
        "        if coverage_gdf.crs != \"EPSG:4326\":\n",
        "            coverage_gdf = coverage_gdf.to_crs(\"EPSG:4326\")\n",
        "\n",
        "        coverage_group = folium.FeatureGroup(name=\"4G Coverage\")\n",
        "\n",
        "        folium.GeoJson(\n",
        "            coverage_gdf,\n",
        "            style_function=lambda x: {\n",
        "                'fillColor': '#4287f5',\n",
        "                'fillOpacity': 0.2,\n",
        "                'color': '#2664ba',\n",
        "                'weight': 1\n",
        "            }\n",
        "        ).add_to(coverage_group)\n",
        "\n",
        "        coverage_group.add_to(m)\n",
        "\n",
        "    title_html = f'''\n",
        "    <div style=\"position: fixed;\n",
        "                top: 10px;\n",
        "                left: 50px;\n",
        "                z-index: 1000;\n",
        "                background-color: white;\n",
        "                padding: 10px;\n",
        "                border-radius: 5px;\">\n",
        "        <h4>{title}</h4>\n",
        "        Total Points: {len(points_gdf)}\n",
        "    </div>\n",
        "    '''\n",
        "\n",
        "    # Modified legend with separate sections\n",
        "    legend_html = '''\n",
        "    <div style=\"position: fixed;\n",
        "                bottom: 50px;\n",
        "                right: 50px;\n",
        "                z-index: 1000;\n",
        "                background-color: white;\n",
        "                padding: 10px;\n",
        "                border-radius: 5px;\">\n",
        "    '''\n",
        "\n",
        "    # Schools section\n",
        "    legend_html += '<p><strong>Schools by Technology</strong></p>'\n",
        "    for tech, color in color_map.items():\n",
        "        legend_html += f'<p><span style=\"color:{color}\">●</span> {tech}</p>'\n",
        "\n",
        "    # Coverage section if provided\n",
        "    if coverage_gdf is not None:\n",
        "        legend_html += '<hr style=\"margin: 10px 0;\">'  # Separator line\n",
        "        legend_html += '<p><strong>Network Coverage</strong></p>'\n",
        "        legend_html += f'<p><span style=\"color:#4287f5\">■</span> 4G Coverage</p>'\n",
        "\n",
        "    legend_html += '</div>'\n",
        "\n",
        "    m.get_root().html.add_child(folium.Element(title_html))\n",
        "    m.get_root().html.add_child(folium.Element(legend_html))\n",
        "\n",
        "    points_group = folium.FeatureGroup(name=\"Schools\")\n",
        "\n",
        "    for _, row in points_gdf.iterrows():\n",
        "        color = color_map.get(row.technology, '#808080')  # gray for NaN\n",
        "        folium.CircleMarker(\n",
        "            location=[row.geometry.y, row.geometry.x],\n",
        "            radius=5,\n",
        "            color='black',\n",
        "            weight=1,\n",
        "            fill=True,\n",
        "            fill_color=color,\n",
        "            fill_opacity=0.7,\n",
        "            popup=f\"ID: {row.name}<br>Technology: {row.technology}\"\n",
        "        ).add_to(points_group)\n",
        "\n",
        "    points_group.add_to(m)\n",
        "\n",
        "    # Add layer control\n",
        "    folium.LayerControl().add_to(m)\n",
        "\n",
        "    return m"
      ]
    },
    {
      "cell_type": "code",
      "execution_count": 19,
      "metadata": {
        "id": "ZKQmxy23iZ3s"
      },
      "outputs": [],
      "source": [
        "# Combine our main results table with the selected technology for each school\n",
        "# 1. Start with merged_results (our main table with school information)\n",
        "# 2. Add the \"technology\" column, which is the result of technology selection\n",
        "# 3. Keep only schools where we were able to select a technology (remove rows where technology is missing)\n",
        "technology_selection = (merged_results\n",
        "                       .merge(net_revenues[\"technology\"],\n",
        "                             left_index=True,  # Use index (school_id) to match rows\n",
        "                             right_index=True)\n",
        "                       .dropna(subset=[\"technology\"]))"
      ]
    },
    {
      "cell_type": "code",
      "execution_count": null,
      "metadata": {
        "colab": {
          "base_uri": "https://localhost:8080/",
          "height": 720
        },
        "id": "A4twGXeOiZ3s",
        "outputId": "047b2c7d-39b1-4fd2-d2d3-da56cdad46a6"
      },
      "outputs": [],
      "source": [
        "# Plot the technology selection\n",
        "m = plot_points_by_technology(technology_selection, color_map, None, title=\"Schools by Selected Technology\", zoom=6)\n",
        "display(m)"
      ]
    },
    {
      "cell_type": "markdown",
      "metadata": {
        "id": "2xTGTQkbWf_c"
      },
      "source": [
        "## Knowledge check"
      ]
    },
    {
      "cell_type": "markdown",
      "metadata": {
        "id": "jdVlwy3Z0A2c"
      },
      "source": [
        "> Describe how a technology was selected for each school.\n"
      ]
    },
    {
      "cell_type": "markdown",
      "metadata": {
        "id": "DjgTm3xU0I0I"
      },
      "source": [
        "..."
      ]
    },
    {
      "cell_type": "markdown",
      "metadata": {
        "id": "0WBbKR5M0W6t"
      },
      "source": [
        "> What geographical patterns can you see in the final technological assignment?"
      ]
    },
    {
      "cell_type": "markdown",
      "metadata": {
        "id": "-3BeiNDs0dkP"
      },
      "source": [
        "..."
      ]
    },
    {
      "cell_type": "markdown",
      "metadata": {
        "id": "wxbuuz480eyH"
      },
      "source": [
        "> If satellite became *not feasible* for all schools in the country, what would the new technological assignment be?"
      ]
    },
    {
      "cell_type": "markdown",
      "metadata": {
        "id": "pjPN7xOE0tgy"
      },
      "source": [
        "..."
      ]
    },
    {
      "cell_type": "markdown",
      "metadata": {
        "id": "d9UwFO59X_TE"
      },
      "source": [
        ">  If the maximum length of fiber line allowed was 1km, what would the new technological assignment be?\n"
      ]
    },
    {
      "cell_type": "markdown",
      "metadata": {
        "id": "x4fr3ZfH03f3"
      },
      "source": [
        "..."
      ]
    }
  ],
  "metadata": {
    "colab": {
      "provenance": [],
      "toc_visible": true
    },
    "kernelspec": {
      "display_name": "giga-inframapkit-env",
      "language": "python",
      "name": "python3"
    },
    "language_info": {
      "codemirror_mode": {
        "name": "ipython",
        "version": 3
      },
      "file_extension": ".py",
      "mimetype": "text/x-python",
      "name": "python",
      "nbconvert_exporter": "python",
      "pygments_lexer": "ipython3",
      "version": "3.11.11"
    },
    "widgets": {
      "application/vnd.jupyter.widget-state+json": {
        "01c51bda5ddc4229b9c50509ed1ccb2f": {
          "model_module": "@jupyter-widgets/base",
          "model_module_version": "1.2.0",
          "model_name": "LayoutModel",
          "state": {
            "_model_module": "@jupyter-widgets/base",
            "_model_module_version": "1.2.0",
            "_model_name": "LayoutModel",
            "_view_count": null,
            "_view_module": "@jupyter-widgets/base",
            "_view_module_version": "1.2.0",
            "_view_name": "LayoutView",
            "align_content": null,
            "align_items": null,
            "align_self": null,
            "border": null,
            "bottom": null,
            "display": null,
            "flex": null,
            "flex_flow": null,
            "grid_area": null,
            "grid_auto_columns": null,
            "grid_auto_flow": null,
            "grid_auto_rows": null,
            "grid_column": null,
            "grid_gap": null,
            "grid_row": null,
            "grid_template_areas": null,
            "grid_template_columns": null,
            "grid_template_rows": null,
            "height": null,
            "justify_content": null,
            "justify_items": null,
            "left": null,
            "margin": null,
            "max_height": null,
            "max_width": null,
            "min_height": null,
            "min_width": null,
            "object_fit": null,
            "object_position": null,
            "order": null,
            "overflow": null,
            "overflow_x": null,
            "overflow_y": null,
            "padding": null,
            "right": null,
            "top": null,
            "visibility": null,
            "width": null
          }
        },
        "0d5192e92ad54d518b57257d753e3b24": {
          "model_module": "@jupyter-widgets/controls",
          "model_module_version": "1.5.0",
          "model_name": "FloatSliderModel",
          "state": {
            "_dom_classes": [],
            "_model_module": "@jupyter-widgets/controls",
            "_model_module_version": "1.5.0",
            "_model_name": "FloatSliderModel",
            "_view_count": null,
            "_view_module": "@jupyter-widgets/controls",
            "_view_module_version": "1.5.0",
            "_view_name": "FloatSliderView",
            "continuous_update": true,
            "description": "ARPU (USD):",
            "description_tooltip": null,
            "disabled": false,
            "layout": "IPY_MODEL_bf25ac888d984f77b9eed20576f58ec5",
            "max": 500,
            "min": 0,
            "orientation": "horizontal",
            "readout": true,
            "readout_format": ",.0f",
            "step": 1,
            "style": "IPY_MODEL_f4219c437ee848b39bd3320882af1b83",
            "value": 225
          }
        },
        "10eeaaf5437b45c3a7bcc4c5c513af74": {
          "model_module": "@jupyter-widgets/controls",
          "model_module_version": "1.5.0",
          "model_name": "SliderStyleModel",
          "state": {
            "_model_module": "@jupyter-widgets/controls",
            "_model_module_version": "1.5.0",
            "_model_name": "SliderStyleModel",
            "_view_count": null,
            "_view_module": "@jupyter-widgets/base",
            "_view_module_version": "1.2.0",
            "_view_name": "StyleView",
            "description_width": "initial",
            "handle_color": null
          }
        },
        "115d7931d4fa43638cbcc62762afb458": {
          "model_module": "@jupyter-widgets/controls",
          "model_module_version": "1.5.0",
          "model_name": "FloatSliderModel",
          "state": {
            "_dom_classes": [],
            "_model_module": "@jupyter-widgets/controls",
            "_model_module_version": "1.5.0",
            "_model_name": "FloatSliderModel",
            "_view_count": null,
            "_view_module": "@jupyter-widgets/controls",
            "_view_module_version": "1.5.0",
            "_view_name": "FloatSliderView",
            "continuous_update": true,
            "description": "CAPEX (USD):",
            "description_tooltip": null,
            "disabled": false,
            "layout": "IPY_MODEL_bf25ac888d984f77b9eed20576f58ec5",
            "max": 10000,
            "min": 0,
            "orientation": "horizontal",
            "readout": true,
            "readout_format": ",.0f",
            "step": 1,
            "style": "IPY_MODEL_559faa24f00d42118e201a6ca10f6824",
            "value": 8000
          }
        },
        "220f41c718dd4388b0c171e1781ef9c1": {
          "model_module": "@jupyter-widgets/controls",
          "model_module_version": "1.5.0",
          "model_name": "TabModel",
          "state": {
            "_dom_classes": [],
            "_model_module": "@jupyter-widgets/controls",
            "_model_module_version": "1.5.0",
            "_model_name": "TabModel",
            "_titles": {
              "0": "Overall",
              "1": "Fiber",
              "2": "P2area",
              "3": "P2p",
              "4": "Satellite"
            },
            "_view_count": null,
            "_view_module": "@jupyter-widgets/controls",
            "_view_module_version": "1.5.0",
            "_view_name": "TabView",
            "box_style": "",
            "children": [
              "IPY_MODEL_9dd13bc1366e4ae588c87232244d26e5",
              "IPY_MODEL_e95a3d9f48674a7dbd68bea6d81c81ec",
              "IPY_MODEL_dd7ead3985df4ce8a1c3d569d75f4f17",
              "IPY_MODEL_d9dfc7ebcca940ba81a618576da7784b",
              "IPY_MODEL_640d100019dd483184e521b217feae01"
            ],
            "layout": "IPY_MODEL_516da9b9a1644e39967315d470a5d765",
            "selected_index": 4
          }
        },
        "26239eb7ad324778b5787b5762f5dc51": {
          "model_module": "@jupyter-widgets/controls",
          "model_module_version": "1.5.0",
          "model_name": "FloatSliderModel",
          "state": {
            "_dom_classes": [],
            "_model_module": "@jupyter-widgets/controls",
            "_model_module_version": "1.5.0",
            "_model_name": "FloatSliderModel",
            "_view_count": null,
            "_view_module": "@jupyter-widgets/controls",
            "_view_module_version": "1.5.0",
            "_view_name": "FloatSliderView",
            "continuous_update": true,
            "description": "Users per 100 residents:",
            "description_tooltip": null,
            "disabled": false,
            "layout": "IPY_MODEL_bf25ac888d984f77b9eed20576f58ec5",
            "max": 100,
            "min": 0,
            "orientation": "horizontal",
            "readout": true,
            "readout_format": ",.3f",
            "step": 1,
            "style": "IPY_MODEL_42901c6063be4604a0907390e01aa74b",
            "value": 16
          }
        },
        "29bb62349b684dfebd7fadd88a8293bb": {
          "model_module": "@jupyter-widgets/controls",
          "model_module_version": "1.5.0",
          "model_name": "FloatSliderModel",
          "state": {
            "_dom_classes": [],
            "_model_module": "@jupyter-widgets/controls",
            "_model_module_version": "1.5.0",
            "_model_name": "FloatSliderModel",
            "_view_count": null,
            "_view_module": "@jupyter-widgets/controls",
            "_view_module_version": "1.5.0",
            "_view_name": "FloatSliderView",
            "continuous_update": true,
            "description": "OPEX (USD):",
            "description_tooltip": null,
            "disabled": false,
            "layout": "IPY_MODEL_bf25ac888d984f77b9eed20576f58ec5",
            "max": 5000,
            "min": 0,
            "orientation": "horizontal",
            "readout": true,
            "readout_format": ",.0f",
            "step": 1,
            "style": "IPY_MODEL_a84bcefeee1247ddb478dd6a24ee2641",
            "value": 4000
          }
        },
        "29e45896608f4163815bad8ecdde1b8b": {
          "model_module": "@jupyter-widgets/controls",
          "model_module_version": "1.5.0",
          "model_name": "FloatSliderModel",
          "state": {
            "_dom_classes": [],
            "_model_module": "@jupyter-widgets/controls",
            "_model_module_version": "1.5.0",
            "_model_name": "FloatSliderModel",
            "_view_count": null,
            "_view_module": "@jupyter-widgets/controls",
            "_view_module_version": "1.5.0",
            "_view_name": "FloatSliderView",
            "continuous_update": true,
            "description": "Max Fiber Length (km):",
            "description_tooltip": null,
            "disabled": false,
            "layout": "IPY_MODEL_bf25ac888d984f77b9eed20576f58ec5",
            "max": 50,
            "min": 0,
            "orientation": "horizontal",
            "readout": true,
            "readout_format": ",.0f",
            "step": 1,
            "style": "IPY_MODEL_4d9758fc27094289860b181a97f319f2",
            "value": 25
          }
        },
        "2c238eee1bdc48fc84a6b0de2adbefc0": {
          "model_module": "@jupyter-widgets/controls",
          "model_module_version": "1.5.0",
          "model_name": "SliderStyleModel",
          "state": {
            "_model_module": "@jupyter-widgets/controls",
            "_model_module_version": "1.5.0",
            "_model_name": "SliderStyleModel",
            "_view_count": null,
            "_view_module": "@jupyter-widgets/base",
            "_view_module_version": "1.2.0",
            "_view_name": "StyleView",
            "description_width": "initial",
            "handle_color": null
          }
        },
        "302e9e2a662d457fa37e01fcc33964ad": {
          "model_module": "@jupyter-widgets/base",
          "model_module_version": "1.2.0",
          "model_name": "LayoutModel",
          "state": {
            "_model_module": "@jupyter-widgets/base",
            "_model_module_version": "1.2.0",
            "_model_name": "LayoutModel",
            "_view_count": null,
            "_view_module": "@jupyter-widgets/base",
            "_view_module_version": "1.2.0",
            "_view_name": "LayoutView",
            "align_content": null,
            "align_items": null,
            "align_self": null,
            "border": null,
            "bottom": null,
            "display": null,
            "flex": null,
            "flex_flow": null,
            "grid_area": null,
            "grid_auto_columns": null,
            "grid_auto_flow": null,
            "grid_auto_rows": null,
            "grid_column": null,
            "grid_gap": null,
            "grid_row": null,
            "grid_template_areas": null,
            "grid_template_columns": null,
            "grid_template_rows": null,
            "height": null,
            "justify_content": null,
            "justify_items": null,
            "left": null,
            "margin": "5px",
            "max_height": null,
            "max_width": null,
            "min_height": null,
            "min_width": null,
            "object_fit": null,
            "object_position": null,
            "order": null,
            "overflow": null,
            "overflow_x": null,
            "overflow_y": null,
            "padding": "10px",
            "right": null,
            "top": null,
            "visibility": null,
            "width": null
          }
        },
        "3edcf5d0933e4e348c82eb2392d4c4aa": {
          "model_module": "@jupyter-widgets/controls",
          "model_module_version": "1.5.0",
          "model_name": "DescriptionStyleModel",
          "state": {
            "_model_module": "@jupyter-widgets/controls",
            "_model_module_version": "1.5.0",
            "_model_name": "DescriptionStyleModel",
            "_view_count": null,
            "_view_module": "@jupyter-widgets/base",
            "_view_module_version": "1.2.0",
            "_view_name": "StyleView",
            "description_width": ""
          }
        },
        "3f0a825c66104005a64f1e1b03e4acd7": {
          "model_module": "@jupyter-widgets/controls",
          "model_module_version": "1.5.0",
          "model_name": "SliderStyleModel",
          "state": {
            "_model_module": "@jupyter-widgets/controls",
            "_model_module_version": "1.5.0",
            "_model_name": "SliderStyleModel",
            "_view_count": null,
            "_view_module": "@jupyter-widgets/base",
            "_view_module_version": "1.2.0",
            "_view_name": "StyleView",
            "description_width": "initial",
            "handle_color": null
          }
        },
        "41d0f38bd8ba472f98ead3ef7a65f96a": {
          "model_module": "@jupyter-widgets/base",
          "model_module_version": "1.2.0",
          "model_name": "LayoutModel",
          "state": {
            "_model_module": "@jupyter-widgets/base",
            "_model_module_version": "1.2.0",
            "_model_name": "LayoutModel",
            "_view_count": null,
            "_view_module": "@jupyter-widgets/base",
            "_view_module_version": "1.2.0",
            "_view_name": "LayoutView",
            "align_content": null,
            "align_items": null,
            "align_self": null,
            "border": "solid 1px #ddd",
            "bottom": null,
            "display": null,
            "flex": null,
            "flex_flow": null,
            "grid_area": null,
            "grid_auto_columns": null,
            "grid_auto_flow": null,
            "grid_auto_rows": null,
            "grid_column": null,
            "grid_gap": null,
            "grid_row": null,
            "grid_template_areas": null,
            "grid_template_columns": null,
            "grid_template_rows": null,
            "height": null,
            "justify_content": null,
            "justify_items": null,
            "left": null,
            "margin": "5px",
            "max_height": null,
            "max_width": null,
            "min_height": null,
            "min_width": null,
            "object_fit": null,
            "object_position": null,
            "order": null,
            "overflow": null,
            "overflow_x": null,
            "overflow_y": null,
            "padding": "10px",
            "right": null,
            "top": null,
            "visibility": null,
            "width": null
          }
        },
        "42901c6063be4604a0907390e01aa74b": {
          "model_module": "@jupyter-widgets/controls",
          "model_module_version": "1.5.0",
          "model_name": "SliderStyleModel",
          "state": {
            "_model_module": "@jupyter-widgets/controls",
            "_model_module_version": "1.5.0",
            "_model_name": "SliderStyleModel",
            "_view_count": null,
            "_view_module": "@jupyter-widgets/base",
            "_view_module_version": "1.2.0",
            "_view_name": "StyleView",
            "description_width": "initial",
            "handle_color": null
          }
        },
        "4394c28e692f446fb75f151473a4c564": {
          "model_module": "@jupyter-widgets/controls",
          "model_module_version": "1.5.0",
          "model_name": "FloatSliderModel",
          "state": {
            "_dom_classes": [],
            "_model_module": "@jupyter-widgets/controls",
            "_model_module_version": "1.5.0",
            "_model_name": "FloatSliderModel",
            "_view_count": null,
            "_view_module": "@jupyter-widgets/controls",
            "_view_module_version": "1.5.0",
            "_view_name": "FloatSliderView",
            "continuous_update": true,
            "description": "CAPEX (USD):",
            "description_tooltip": null,
            "disabled": false,
            "layout": "IPY_MODEL_bf25ac888d984f77b9eed20576f58ec5",
            "max": 10000,
            "min": 0,
            "orientation": "horizontal",
            "readout": true,
            "readout_format": ",.0f",
            "step": 1,
            "style": "IPY_MODEL_3f0a825c66104005a64f1e1b03e4acd7",
            "value": 1500
          }
        },
        "47e1a330778c4dfbabf01d25e604c193": {
          "model_module": "@jupyter-widgets/controls",
          "model_module_version": "1.5.0",
          "model_name": "FloatSliderModel",
          "state": {
            "_dom_classes": [],
            "_model_module": "@jupyter-widgets/controls",
            "_model_module_version": "1.5.0",
            "_model_name": "FloatSliderModel",
            "_view_count": null,
            "_view_module": "@jupyter-widgets/controls",
            "_view_module_version": "1.5.0",
            "_view_name": "FloatSliderView",
            "continuous_update": true,
            "description": "CAPEX (USD):",
            "description_tooltip": null,
            "disabled": false,
            "layout": "IPY_MODEL_bf25ac888d984f77b9eed20576f58ec5",
            "max": 10000,
            "min": 0,
            "orientation": "horizontal",
            "readout": true,
            "readout_format": ",.0f",
            "step": 1,
            "style": "IPY_MODEL_bc27807128d8405bb1f3b6dbde483651",
            "value": 2000
          }
        },
        "4c5a09929bbe4fdc8d1b1f2c5b94e7c2": {
          "model_module": "@jupyter-widgets/base",
          "model_module_version": "1.2.0",
          "model_name": "LayoutModel",
          "state": {
            "_model_module": "@jupyter-widgets/base",
            "_model_module_version": "1.2.0",
            "_model_name": "LayoutModel",
            "_view_count": null,
            "_view_module": "@jupyter-widgets/base",
            "_view_module_version": "1.2.0",
            "_view_name": "LayoutView",
            "align_content": null,
            "align_items": null,
            "align_self": null,
            "border": null,
            "bottom": null,
            "display": null,
            "flex": null,
            "flex_flow": null,
            "grid_area": null,
            "grid_auto_columns": null,
            "grid_auto_flow": null,
            "grid_auto_rows": null,
            "grid_column": null,
            "grid_gap": null,
            "grid_row": null,
            "grid_template_areas": null,
            "grid_template_columns": null,
            "grid_template_rows": null,
            "height": null,
            "justify_content": null,
            "justify_items": null,
            "left": null,
            "margin": null,
            "max_height": null,
            "max_width": null,
            "min_height": null,
            "min_width": null,
            "object_fit": null,
            "object_position": null,
            "order": null,
            "overflow": null,
            "overflow_x": null,
            "overflow_y": null,
            "padding": null,
            "right": null,
            "top": null,
            "visibility": null,
            "width": null
          }
        },
        "4d9758fc27094289860b181a97f319f2": {
          "model_module": "@jupyter-widgets/controls",
          "model_module_version": "1.5.0",
          "model_name": "SliderStyleModel",
          "state": {
            "_model_module": "@jupyter-widgets/controls",
            "_model_module_version": "1.5.0",
            "_model_name": "SliderStyleModel",
            "_view_count": null,
            "_view_module": "@jupyter-widgets/base",
            "_view_module_version": "1.2.0",
            "_view_name": "StyleView",
            "description_width": "initial",
            "handle_color": null
          }
        },
        "4feb135ab8c940a78bb50e4ed4ffd846": {
          "model_module": "@jupyter-widgets/controls",
          "model_module_version": "1.5.0",
          "model_name": "SliderStyleModel",
          "state": {
            "_model_module": "@jupyter-widgets/controls",
            "_model_module_version": "1.5.0",
            "_model_name": "SliderStyleModel",
            "_view_count": null,
            "_view_module": "@jupyter-widgets/base",
            "_view_module_version": "1.2.0",
            "_view_name": "StyleView",
            "description_width": "initial",
            "handle_color": null
          }
        },
        "516da9b9a1644e39967315d470a5d765": {
          "model_module": "@jupyter-widgets/base",
          "model_module_version": "1.2.0",
          "model_name": "LayoutModel",
          "state": {
            "_model_module": "@jupyter-widgets/base",
            "_model_module_version": "1.2.0",
            "_model_name": "LayoutModel",
            "_view_count": null,
            "_view_module": "@jupyter-widgets/base",
            "_view_module_version": "1.2.0",
            "_view_name": "LayoutView",
            "align_content": null,
            "align_items": null,
            "align_self": null,
            "border": null,
            "bottom": null,
            "display": null,
            "flex": null,
            "flex_flow": null,
            "grid_area": null,
            "grid_auto_columns": null,
            "grid_auto_flow": null,
            "grid_auto_rows": null,
            "grid_column": null,
            "grid_gap": null,
            "grid_row": null,
            "grid_template_areas": null,
            "grid_template_columns": null,
            "grid_template_rows": null,
            "height": null,
            "justify_content": null,
            "justify_items": null,
            "left": null,
            "margin": null,
            "max_height": null,
            "max_width": null,
            "min_height": null,
            "min_width": null,
            "object_fit": null,
            "object_position": null,
            "order": null,
            "overflow": null,
            "overflow_x": null,
            "overflow_y": null,
            "padding": null,
            "right": null,
            "top": null,
            "visibility": null,
            "width": null
          }
        },
        "559faa24f00d42118e201a6ca10f6824": {
          "model_module": "@jupyter-widgets/controls",
          "model_module_version": "1.5.0",
          "model_name": "SliderStyleModel",
          "state": {
            "_model_module": "@jupyter-widgets/controls",
            "_model_module_version": "1.5.0",
            "_model_name": "SliderStyleModel",
            "_view_count": null,
            "_view_module": "@jupyter-widgets/base",
            "_view_module_version": "1.2.0",
            "_view_name": "StyleView",
            "description_width": "initial",
            "handle_color": null
          }
        },
        "591318c914d9430a8c14cf0025a57caf": {
          "model_module": "@jupyter-widgets/controls",
          "model_module_version": "1.5.0",
          "model_name": "FloatSliderModel",
          "state": {
            "_dom_classes": [],
            "_model_module": "@jupyter-widgets/controls",
            "_model_module_version": "1.5.0",
            "_model_name": "FloatSliderModel",
            "_view_count": null,
            "_view_module": "@jupyter-widgets/controls",
            "_view_module_version": "1.5.0",
            "_view_name": "FloatSliderView",
            "continuous_update": true,
            "description": "CAPEX (USD):",
            "description_tooltip": null,
            "disabled": false,
            "layout": "IPY_MODEL_bf25ac888d984f77b9eed20576f58ec5",
            "max": 10000,
            "min": 0,
            "orientation": "horizontal",
            "readout": true,
            "readout_format": ",.0f",
            "step": 1,
            "style": "IPY_MODEL_bc310fb87f4a4bd0912ddf24264bbbf7",
            "value": 4000
          }
        },
        "5ba139379d4d41e5bc5ad0b3f52b0686": {
          "model_module": "@jupyter-widgets/controls",
          "model_module_version": "1.5.0",
          "model_name": "FloatSliderModel",
          "state": {
            "_dom_classes": [],
            "_model_module": "@jupyter-widgets/controls",
            "_model_module_version": "1.5.0",
            "_model_name": "FloatSliderModel",
            "_view_count": null,
            "_view_module": "@jupyter-widgets/controls",
            "_view_module_version": "1.5.0",
            "_view_name": "FloatSliderView",
            "continuous_update": true,
            "description": "ARPU (USD):",
            "description_tooltip": null,
            "disabled": false,
            "layout": "IPY_MODEL_bf25ac888d984f77b9eed20576f58ec5",
            "max": 500,
            "min": 0,
            "orientation": "horizontal",
            "readout": true,
            "readout_format": ",.0f",
            "step": 1,
            "style": "IPY_MODEL_968ca1bdac7747f0915ff88af1259d1a",
            "value": 225
          }
        },
        "5f49c9eeda624f3cbbdac2106170e11a": {
          "model_module": "@jupyter-widgets/base",
          "model_module_version": "1.2.0",
          "model_name": "LayoutModel",
          "state": {
            "_model_module": "@jupyter-widgets/base",
            "_model_module_version": "1.2.0",
            "_model_name": "LayoutModel",
            "_view_count": null,
            "_view_module": "@jupyter-widgets/base",
            "_view_module_version": "1.2.0",
            "_view_name": "LayoutView",
            "align_content": null,
            "align_items": null,
            "align_self": null,
            "border": "solid 1px #ddd",
            "bottom": null,
            "display": null,
            "flex": null,
            "flex_flow": null,
            "grid_area": null,
            "grid_auto_columns": null,
            "grid_auto_flow": null,
            "grid_auto_rows": null,
            "grid_column": null,
            "grid_gap": null,
            "grid_row": null,
            "grid_template_areas": null,
            "grid_template_columns": null,
            "grid_template_rows": null,
            "height": null,
            "justify_content": null,
            "justify_items": null,
            "left": null,
            "margin": "5px",
            "max_height": null,
            "max_width": null,
            "min_height": null,
            "min_width": null,
            "object_fit": null,
            "object_position": null,
            "order": null,
            "overflow": null,
            "overflow_x": null,
            "overflow_y": null,
            "padding": "10px",
            "right": null,
            "top": null,
            "visibility": null,
            "width": null
          }
        },
        "62f874aa98b34233af3295f17a61bf9a": {
          "model_module": "@jupyter-widgets/controls",
          "model_module_version": "1.5.0",
          "model_name": "FloatSliderModel",
          "state": {
            "_dom_classes": [],
            "_model_module": "@jupyter-widgets/controls",
            "_model_module_version": "1.5.0",
            "_model_name": "FloatSliderModel",
            "_view_count": null,
            "_view_module": "@jupyter-widgets/controls",
            "_view_module_version": "1.5.0",
            "_view_name": "FloatSliderView",
            "continuous_update": true,
            "description": "OPEX (USD):",
            "description_tooltip": null,
            "disabled": false,
            "layout": "IPY_MODEL_bf25ac888d984f77b9eed20576f58ec5",
            "max": 5000,
            "min": 0,
            "orientation": "horizontal",
            "readout": true,
            "readout_format": ",.0f",
            "step": 1,
            "style": "IPY_MODEL_4feb135ab8c940a78bb50e4ed4ffd846",
            "value": 2000
          }
        },
        "640d100019dd483184e521b217feae01": {
          "model_module": "@jupyter-widgets/controls",
          "model_module_version": "1.5.0",
          "model_name": "VBoxModel",
          "state": {
            "_dom_classes": [],
            "_model_module": "@jupyter-widgets/controls",
            "_model_module_version": "1.5.0",
            "_model_name": "VBoxModel",
            "_view_count": null,
            "_view_module": "@jupyter-widgets/controls",
            "_view_module_version": "1.5.0",
            "_view_name": "VBoxView",
            "box_style": "",
            "children": [
              "IPY_MODEL_86513fc1607c4a7195231b8bd2ae60e4",
              "IPY_MODEL_115d7931d4fa43638cbcc62762afb458",
              "IPY_MODEL_29bb62349b684dfebd7fadd88a8293bb",
              "IPY_MODEL_5ba139379d4d41e5bc5ad0b3f52b0686"
            ],
            "layout": "IPY_MODEL_a6fbace85986497c9153ad08d54cfc50"
          }
        },
        "7233d98bb388410d9532cbc161690df4": {
          "model_module": "@jupyter-widgets/controls",
          "model_module_version": "1.5.0",
          "model_name": "FloatSliderModel",
          "state": {
            "_dom_classes": [],
            "_model_module": "@jupyter-widgets/controls",
            "_model_module_version": "1.5.0",
            "_model_name": "FloatSliderModel",
            "_view_count": null,
            "_view_module": "@jupyter-widgets/controls",
            "_view_module_version": "1.5.0",
            "_view_name": "FloatSliderView",
            "continuous_update": true,
            "description": "OPEX (USD):",
            "description_tooltip": null,
            "disabled": false,
            "layout": "IPY_MODEL_bf25ac888d984f77b9eed20576f58ec5",
            "max": 5000,
            "min": 0,
            "orientation": "horizontal",
            "readout": true,
            "readout_format": ",.0f",
            "step": 1,
            "style": "IPY_MODEL_10eeaaf5437b45c3a7bcc4c5c513af74",
            "value": 800
          }
        },
        "7a953921768b4cc3b006568f205cb1cb": {
          "model_module": "@jupyter-widgets/controls",
          "model_module_version": "1.5.0",
          "model_name": "IntSliderModel",
          "state": {
            "_dom_classes": [],
            "_model_module": "@jupyter-widgets/controls",
            "_model_module_version": "1.5.0",
            "_model_name": "IntSliderModel",
            "_view_count": null,
            "_view_module": "@jupyter-widgets/controls",
            "_view_module_version": "1.5.0",
            "_view_name": "IntSliderView",
            "continuous_update": true,
            "description": "Number of years:",
            "description_tooltip": null,
            "disabled": false,
            "layout": "IPY_MODEL_bf25ac888d984f77b9eed20576f58ec5",
            "max": 50,
            "min": 1,
            "orientation": "horizontal",
            "readout": true,
            "readout_format": ",.0f",
            "step": 1,
            "style": "IPY_MODEL_b2ab7dcea5aa4e268f03e7278fc0f129",
            "value": 10
          }
        },
        "7bb23ad1738b44419fb2db0e3f8ad62c": {
          "model_module": "@jupyter-widgets/controls",
          "model_module_version": "1.5.0",
          "model_name": "SliderStyleModel",
          "state": {
            "_model_module": "@jupyter-widgets/controls",
            "_model_module_version": "1.5.0",
            "_model_name": "SliderStyleModel",
            "_view_count": null,
            "_view_module": "@jupyter-widgets/base",
            "_view_module_version": "1.2.0",
            "_view_name": "StyleView",
            "description_width": "initial",
            "handle_color": null
          }
        },
        "836738fcde1e42da9dd6d5acd21fbc27": {
          "model_module": "@jupyter-widgets/controls",
          "model_module_version": "1.5.0",
          "model_name": "HTMLModel",
          "state": {
            "_dom_classes": [],
            "_model_module": "@jupyter-widgets/controls",
            "_model_module_version": "1.5.0",
            "_model_name": "HTMLModel",
            "_view_count": null,
            "_view_module": "@jupyter-widgets/controls",
            "_view_module_version": "1.5.0",
            "_view_name": "HTMLView",
            "description": "",
            "description_tooltip": null,
            "layout": "IPY_MODEL_d522c3dc60da45bb870f3b05e7942daf",
            "placeholder": "​",
            "style": "IPY_MODEL_3edcf5d0933e4e348c82eb2392d4c4aa",
            "value": "<div style='font-size:16px; font-weight:bold; color:#444;'>P2p</div>"
          }
        },
        "85a3809a91ec409ba2d2d391ec4ca935": {
          "model_module": "@jupyter-widgets/controls",
          "model_module_version": "1.5.0",
          "model_name": "DescriptionStyleModel",
          "state": {
            "_model_module": "@jupyter-widgets/controls",
            "_model_module_version": "1.5.0",
            "_model_name": "DescriptionStyleModel",
            "_view_count": null,
            "_view_module": "@jupyter-widgets/base",
            "_view_module_version": "1.2.0",
            "_view_name": "StyleView",
            "description_width": ""
          }
        },
        "8647853e55934d97a98cb593a4aff954": {
          "model_module": "@jupyter-widgets/controls",
          "model_module_version": "1.5.0",
          "model_name": "SliderStyleModel",
          "state": {
            "_model_module": "@jupyter-widgets/controls",
            "_model_module_version": "1.5.0",
            "_model_name": "SliderStyleModel",
            "_view_count": null,
            "_view_module": "@jupyter-widgets/base",
            "_view_module_version": "1.2.0",
            "_view_name": "StyleView",
            "description_width": "initial",
            "handle_color": null
          }
        },
        "86513fc1607c4a7195231b8bd2ae60e4": {
          "model_module": "@jupyter-widgets/controls",
          "model_module_version": "1.5.0",
          "model_name": "HTMLModel",
          "state": {
            "_dom_classes": [],
            "_model_module": "@jupyter-widgets/controls",
            "_model_module_version": "1.5.0",
            "_model_name": "HTMLModel",
            "_view_count": null,
            "_view_module": "@jupyter-widgets/controls",
            "_view_module_version": "1.5.0",
            "_view_name": "HTMLView",
            "description": "",
            "description_tooltip": null,
            "layout": "IPY_MODEL_4c5a09929bbe4fdc8d1b1f2c5b94e7c2",
            "placeholder": "​",
            "style": "IPY_MODEL_d21236c4e5844f11b646dda1109970f5",
            "value": "<div style='font-size:16px; font-weight:bold; color:#444;'>Satellite</div>"
          }
        },
        "8810d50cfa81435e821c7d128c9838eb": {
          "model_module": "@jupyter-widgets/base",
          "model_module_version": "1.2.0",
          "model_name": "LayoutModel",
          "state": {
            "_model_module": "@jupyter-widgets/base",
            "_model_module_version": "1.2.0",
            "_model_name": "LayoutModel",
            "_view_count": null,
            "_view_module": "@jupyter-widgets/base",
            "_view_module_version": "1.2.0",
            "_view_name": "LayoutView",
            "align_content": null,
            "align_items": null,
            "align_self": null,
            "border": "solid 1px #ddd",
            "bottom": null,
            "display": null,
            "flex": null,
            "flex_flow": null,
            "grid_area": null,
            "grid_auto_columns": null,
            "grid_auto_flow": null,
            "grid_auto_rows": null,
            "grid_column": null,
            "grid_gap": null,
            "grid_row": null,
            "grid_template_areas": null,
            "grid_template_columns": null,
            "grid_template_rows": null,
            "height": null,
            "justify_content": null,
            "justify_items": null,
            "left": null,
            "margin": "5px",
            "max_height": null,
            "max_width": null,
            "min_height": null,
            "min_width": null,
            "object_fit": null,
            "object_position": null,
            "order": null,
            "overflow": null,
            "overflow_x": null,
            "overflow_y": null,
            "padding": "10px",
            "right": null,
            "top": null,
            "visibility": null,
            "width": null
          }
        },
        "8a9852b1e0354600a492ed535eb136b8": {
          "model_module": "@jupyter-widgets/controls",
          "model_module_version": "1.5.0",
          "model_name": "DescriptionStyleModel",
          "state": {
            "_model_module": "@jupyter-widgets/controls",
            "_model_module_version": "1.5.0",
            "_model_name": "DescriptionStyleModel",
            "_view_count": null,
            "_view_module": "@jupyter-widgets/base",
            "_view_module_version": "1.2.0",
            "_view_name": "StyleView",
            "description_width": ""
          }
        },
        "905ebe0f71724224acec366ea21487d2": {
          "model_module": "@jupyter-widgets/controls",
          "model_module_version": "1.5.0",
          "model_name": "FloatSliderModel",
          "state": {
            "_dom_classes": [],
            "_model_module": "@jupyter-widgets/controls",
            "_model_module_version": "1.5.0",
            "_model_name": "FloatSliderModel",
            "_view_count": null,
            "_view_module": "@jupyter-widgets/controls",
            "_view_module_version": "1.5.0",
            "_view_name": "FloatSliderView",
            "continuous_update": true,
            "description": "ARPU (USD):",
            "description_tooltip": null,
            "disabled": false,
            "layout": "IPY_MODEL_bf25ac888d984f77b9eed20576f58ec5",
            "max": 500,
            "min": 0,
            "orientation": "horizontal",
            "readout": true,
            "readout_format": ",.0f",
            "step": 1,
            "style": "IPY_MODEL_2c238eee1bdc48fc84a6b0de2adbefc0",
            "value": 225
          }
        },
        "968ca1bdac7747f0915ff88af1259d1a": {
          "model_module": "@jupyter-widgets/controls",
          "model_module_version": "1.5.0",
          "model_name": "SliderStyleModel",
          "state": {
            "_model_module": "@jupyter-widgets/controls",
            "_model_module_version": "1.5.0",
            "_model_name": "SliderStyleModel",
            "_view_count": null,
            "_view_module": "@jupyter-widgets/base",
            "_view_module_version": "1.2.0",
            "_view_name": "StyleView",
            "description_width": "initial",
            "handle_color": null
          }
        },
        "9dd13bc1366e4ae588c87232244d26e5": {
          "model_module": "@jupyter-widgets/controls",
          "model_module_version": "1.5.0",
          "model_name": "VBoxModel",
          "state": {
            "_dom_classes": [],
            "_model_module": "@jupyter-widgets/controls",
            "_model_module_version": "1.5.0",
            "_model_name": "VBoxModel",
            "_view_count": null,
            "_view_module": "@jupyter-widgets/controls",
            "_view_module_version": "1.5.0",
            "_view_name": "VBoxView",
            "box_style": "",
            "children": [
              "IPY_MODEL_b8f92ad8622649828c52938830bb39b1",
              "IPY_MODEL_7a953921768b4cc3b006568f205cb1cb",
              "IPY_MODEL_26239eb7ad324778b5787b5762f5dc51"
            ],
            "layout": "IPY_MODEL_302e9e2a662d457fa37e01fcc33964ad"
          }
        },
        "a6fbace85986497c9153ad08d54cfc50": {
          "model_module": "@jupyter-widgets/base",
          "model_module_version": "1.2.0",
          "model_name": "LayoutModel",
          "state": {
            "_model_module": "@jupyter-widgets/base",
            "_model_module_version": "1.2.0",
            "_model_name": "LayoutModel",
            "_view_count": null,
            "_view_module": "@jupyter-widgets/base",
            "_view_module_version": "1.2.0",
            "_view_name": "LayoutView",
            "align_content": null,
            "align_items": null,
            "align_self": null,
            "border": "solid 1px #ddd",
            "bottom": null,
            "display": null,
            "flex": null,
            "flex_flow": null,
            "grid_area": null,
            "grid_auto_columns": null,
            "grid_auto_flow": null,
            "grid_auto_rows": null,
            "grid_column": null,
            "grid_gap": null,
            "grid_row": null,
            "grid_template_areas": null,
            "grid_template_columns": null,
            "grid_template_rows": null,
            "height": null,
            "justify_content": null,
            "justify_items": null,
            "left": null,
            "margin": "5px",
            "max_height": null,
            "max_width": null,
            "min_height": null,
            "min_width": null,
            "object_fit": null,
            "object_position": null,
            "order": null,
            "overflow": null,
            "overflow_x": null,
            "overflow_y": null,
            "padding": "10px",
            "right": null,
            "top": null,
            "visibility": null,
            "width": null
          }
        },
        "a84bcefeee1247ddb478dd6a24ee2641": {
          "model_module": "@jupyter-widgets/controls",
          "model_module_version": "1.5.0",
          "model_name": "SliderStyleModel",
          "state": {
            "_model_module": "@jupyter-widgets/controls",
            "_model_module_version": "1.5.0",
            "_model_name": "SliderStyleModel",
            "_view_count": null,
            "_view_module": "@jupyter-widgets/base",
            "_view_module_version": "1.2.0",
            "_view_name": "StyleView",
            "description_width": "initial",
            "handle_color": null
          }
        },
        "b2ab7dcea5aa4e268f03e7278fc0f129": {
          "model_module": "@jupyter-widgets/controls",
          "model_module_version": "1.5.0",
          "model_name": "SliderStyleModel",
          "state": {
            "_model_module": "@jupyter-widgets/controls",
            "_model_module_version": "1.5.0",
            "_model_name": "SliderStyleModel",
            "_view_count": null,
            "_view_module": "@jupyter-widgets/base",
            "_view_module_version": "1.2.0",
            "_view_name": "StyleView",
            "description_width": "initial",
            "handle_color": null
          }
        },
        "b8f92ad8622649828c52938830bb39b1": {
          "model_module": "@jupyter-widgets/controls",
          "model_module_version": "1.5.0",
          "model_name": "HTMLModel",
          "state": {
            "_dom_classes": [],
            "_model_module": "@jupyter-widgets/controls",
            "_model_module_version": "1.5.0",
            "_model_name": "HTMLModel",
            "_view_count": null,
            "_view_module": "@jupyter-widgets/controls",
            "_view_module_version": "1.5.0",
            "_view_name": "HTMLView",
            "description": "",
            "description_tooltip": null,
            "layout": "IPY_MODEL_fd8b80e5836d4ec597d57d3e08de8f8a",
            "placeholder": "​",
            "style": "IPY_MODEL_8a9852b1e0354600a492ed535eb136b8",
            "value": "<div style='font-size:16px; font-weight:bold; color:#444;'>Overall Parameters</div>"
          }
        },
        "bc27807128d8405bb1f3b6dbde483651": {
          "model_module": "@jupyter-widgets/controls",
          "model_module_version": "1.5.0",
          "model_name": "SliderStyleModel",
          "state": {
            "_model_module": "@jupyter-widgets/controls",
            "_model_module_version": "1.5.0",
            "_model_name": "SliderStyleModel",
            "_view_count": null,
            "_view_module": "@jupyter-widgets/base",
            "_view_module_version": "1.2.0",
            "_view_name": "StyleView",
            "description_width": "initial",
            "handle_color": null
          }
        },
        "bc310fb87f4a4bd0912ddf24264bbbf7": {
          "model_module": "@jupyter-widgets/controls",
          "model_module_version": "1.5.0",
          "model_name": "SliderStyleModel",
          "state": {
            "_model_module": "@jupyter-widgets/controls",
            "_model_module_version": "1.5.0",
            "_model_name": "SliderStyleModel",
            "_view_count": null,
            "_view_module": "@jupyter-widgets/base",
            "_view_module_version": "1.2.0",
            "_view_name": "StyleView",
            "description_width": "initial",
            "handle_color": null
          }
        },
        "bf25ac888d984f77b9eed20576f58ec5": {
          "model_module": "@jupyter-widgets/base",
          "model_module_version": "1.2.0",
          "model_name": "LayoutModel",
          "state": {
            "_model_module": "@jupyter-widgets/base",
            "_model_module_version": "1.2.0",
            "_model_name": "LayoutModel",
            "_view_count": null,
            "_view_module": "@jupyter-widgets/base",
            "_view_module_version": "1.2.0",
            "_view_name": "LayoutView",
            "align_content": null,
            "align_items": null,
            "align_self": null,
            "border": null,
            "bottom": null,
            "display": null,
            "flex": "1 1 auto",
            "flex_flow": null,
            "grid_area": null,
            "grid_auto_columns": null,
            "grid_auto_flow": null,
            "grid_auto_rows": null,
            "grid_column": null,
            "grid_gap": null,
            "grid_row": null,
            "grid_template_areas": null,
            "grid_template_columns": null,
            "grid_template_rows": null,
            "height": null,
            "justify_content": null,
            "justify_items": null,
            "left": null,
            "margin": null,
            "max_height": null,
            "max_width": null,
            "min_height": null,
            "min_width": null,
            "object_fit": null,
            "object_position": null,
            "order": null,
            "overflow": null,
            "overflow_x": null,
            "overflow_y": null,
            "padding": null,
            "right": null,
            "top": null,
            "visibility": null,
            "width": "95%"
          }
        },
        "ca5e8417cabe4dbaad6763a67c455764": {
          "model_module": "@jupyter-widgets/controls",
          "model_module_version": "1.5.0",
          "model_name": "HTMLModel",
          "state": {
            "_dom_classes": [],
            "_model_module": "@jupyter-widgets/controls",
            "_model_module_version": "1.5.0",
            "_model_name": "HTMLModel",
            "_view_count": null,
            "_view_module": "@jupyter-widgets/controls",
            "_view_module_version": "1.5.0",
            "_view_name": "HTMLView",
            "description": "",
            "description_tooltip": null,
            "layout": "IPY_MODEL_d863b929b9d448f5b29e429f275a5f3d",
            "placeholder": "​",
            "style": "IPY_MODEL_cff8fbc801aa458688b53cdfe16ddeae",
            "value": "<div style='font-size:16px; font-weight:bold; color:#444;'>Fiber</div>"
          }
        },
        "cd410f5d3de04414b47bb9a95d35d8e2": {
          "model_module": "@jupyter-widgets/controls",
          "model_module_version": "1.5.0",
          "model_name": "FloatSliderModel",
          "state": {
            "_dom_classes": [],
            "_model_module": "@jupyter-widgets/controls",
            "_model_module_version": "1.5.0",
            "_model_name": "FloatSliderModel",
            "_view_count": null,
            "_view_module": "@jupyter-widgets/controls",
            "_view_module_version": "1.5.0",
            "_view_name": "FloatSliderView",
            "continuous_update": true,
            "description": "OPEX (USD):",
            "description_tooltip": null,
            "disabled": false,
            "layout": "IPY_MODEL_bf25ac888d984f77b9eed20576f58ec5",
            "max": 5000,
            "min": 0,
            "orientation": "horizontal",
            "readout": true,
            "readout_format": ",.0f",
            "step": 1,
            "style": "IPY_MODEL_7bb23ad1738b44419fb2db0e3f8ad62c",
            "value": 600
          }
        },
        "cff8fbc801aa458688b53cdfe16ddeae": {
          "model_module": "@jupyter-widgets/controls",
          "model_module_version": "1.5.0",
          "model_name": "DescriptionStyleModel",
          "state": {
            "_model_module": "@jupyter-widgets/controls",
            "_model_module_version": "1.5.0",
            "_model_name": "DescriptionStyleModel",
            "_view_count": null,
            "_view_module": "@jupyter-widgets/base",
            "_view_module_version": "1.2.0",
            "_view_name": "StyleView",
            "description_width": ""
          }
        },
        "d21236c4e5844f11b646dda1109970f5": {
          "model_module": "@jupyter-widgets/controls",
          "model_module_version": "1.5.0",
          "model_name": "DescriptionStyleModel",
          "state": {
            "_model_module": "@jupyter-widgets/controls",
            "_model_module_version": "1.5.0",
            "_model_name": "DescriptionStyleModel",
            "_view_count": null,
            "_view_module": "@jupyter-widgets/base",
            "_view_module_version": "1.2.0",
            "_view_name": "StyleView",
            "description_width": ""
          }
        },
        "d522c3dc60da45bb870f3b05e7942daf": {
          "model_module": "@jupyter-widgets/base",
          "model_module_version": "1.2.0",
          "model_name": "LayoutModel",
          "state": {
            "_model_module": "@jupyter-widgets/base",
            "_model_module_version": "1.2.0",
            "_model_name": "LayoutModel",
            "_view_count": null,
            "_view_module": "@jupyter-widgets/base",
            "_view_module_version": "1.2.0",
            "_view_name": "LayoutView",
            "align_content": null,
            "align_items": null,
            "align_self": null,
            "border": null,
            "bottom": null,
            "display": null,
            "flex": null,
            "flex_flow": null,
            "grid_area": null,
            "grid_auto_columns": null,
            "grid_auto_flow": null,
            "grid_auto_rows": null,
            "grid_column": null,
            "grid_gap": null,
            "grid_row": null,
            "grid_template_areas": null,
            "grid_template_columns": null,
            "grid_template_rows": null,
            "height": null,
            "justify_content": null,
            "justify_items": null,
            "left": null,
            "margin": null,
            "max_height": null,
            "max_width": null,
            "min_height": null,
            "min_width": null,
            "object_fit": null,
            "object_position": null,
            "order": null,
            "overflow": null,
            "overflow_x": null,
            "overflow_y": null,
            "padding": null,
            "right": null,
            "top": null,
            "visibility": null,
            "width": null
          }
        },
        "d5d86a72847542e99bdc6d6d354b8c07": {
          "model_module": "@jupyter-widgets/controls",
          "model_module_version": "1.5.0",
          "model_name": "FloatSliderModel",
          "state": {
            "_dom_classes": [],
            "_model_module": "@jupyter-widgets/controls",
            "_model_module_version": "1.5.0",
            "_model_name": "FloatSliderModel",
            "_view_count": null,
            "_view_module": "@jupyter-widgets/controls",
            "_view_module_version": "1.5.0",
            "_view_name": "FloatSliderView",
            "continuous_update": true,
            "description": "ARPU (USD):",
            "description_tooltip": null,
            "disabled": false,
            "layout": "IPY_MODEL_bf25ac888d984f77b9eed20576f58ec5",
            "max": 500,
            "min": 0,
            "orientation": "horizontal",
            "readout": true,
            "readout_format": ",.0f",
            "step": 1,
            "style": "IPY_MODEL_8647853e55934d97a98cb593a4aff954",
            "value": 225
          }
        },
        "d863b929b9d448f5b29e429f275a5f3d": {
          "model_module": "@jupyter-widgets/base",
          "model_module_version": "1.2.0",
          "model_name": "LayoutModel",
          "state": {
            "_model_module": "@jupyter-widgets/base",
            "_model_module_version": "1.2.0",
            "_model_name": "LayoutModel",
            "_view_count": null,
            "_view_module": "@jupyter-widgets/base",
            "_view_module_version": "1.2.0",
            "_view_name": "LayoutView",
            "align_content": null,
            "align_items": null,
            "align_self": null,
            "border": null,
            "bottom": null,
            "display": null,
            "flex": null,
            "flex_flow": null,
            "grid_area": null,
            "grid_auto_columns": null,
            "grid_auto_flow": null,
            "grid_auto_rows": null,
            "grid_column": null,
            "grid_gap": null,
            "grid_row": null,
            "grid_template_areas": null,
            "grid_template_columns": null,
            "grid_template_rows": null,
            "height": null,
            "justify_content": null,
            "justify_items": null,
            "left": null,
            "margin": null,
            "max_height": null,
            "max_width": null,
            "min_height": null,
            "min_width": null,
            "object_fit": null,
            "object_position": null,
            "order": null,
            "overflow": null,
            "overflow_x": null,
            "overflow_y": null,
            "padding": null,
            "right": null,
            "top": null,
            "visibility": null,
            "width": null
          }
        },
        "d9dfc7ebcca940ba81a618576da7784b": {
          "model_module": "@jupyter-widgets/controls",
          "model_module_version": "1.5.0",
          "model_name": "VBoxModel",
          "state": {
            "_dom_classes": [],
            "_model_module": "@jupyter-widgets/controls",
            "_model_module_version": "1.5.0",
            "_model_name": "VBoxModel",
            "_view_count": null,
            "_view_module": "@jupyter-widgets/controls",
            "_view_module_version": "1.5.0",
            "_view_name": "VBoxView",
            "box_style": "",
            "children": [
              "IPY_MODEL_836738fcde1e42da9dd6d5acd21fbc27",
              "IPY_MODEL_47e1a330778c4dfbabf01d25e604c193",
              "IPY_MODEL_7233d98bb388410d9532cbc161690df4",
              "IPY_MODEL_0d5192e92ad54d518b57257d753e3b24"
            ],
            "layout": "IPY_MODEL_41d0f38bd8ba472f98ead3ef7a65f96a"
          }
        },
        "dd7ead3985df4ce8a1c3d569d75f4f17": {
          "model_module": "@jupyter-widgets/controls",
          "model_module_version": "1.5.0",
          "model_name": "VBoxModel",
          "state": {
            "_dom_classes": [],
            "_model_module": "@jupyter-widgets/controls",
            "_model_module_version": "1.5.0",
            "_model_name": "VBoxModel",
            "_view_count": null,
            "_view_module": "@jupyter-widgets/controls",
            "_view_module_version": "1.5.0",
            "_view_name": "VBoxView",
            "box_style": "",
            "children": [
              "IPY_MODEL_f390cc0f4ec14e90a19f153f9d0b1ea8",
              "IPY_MODEL_4394c28e692f446fb75f151473a4c564",
              "IPY_MODEL_cd410f5d3de04414b47bb9a95d35d8e2",
              "IPY_MODEL_d5d86a72847542e99bdc6d6d354b8c07"
            ],
            "layout": "IPY_MODEL_8810d50cfa81435e821c7d128c9838eb"
          }
        },
        "e95a3d9f48674a7dbd68bea6d81c81ec": {
          "model_module": "@jupyter-widgets/controls",
          "model_module_version": "1.5.0",
          "model_name": "VBoxModel",
          "state": {
            "_dom_classes": [],
            "_model_module": "@jupyter-widgets/controls",
            "_model_module_version": "1.5.0",
            "_model_name": "VBoxModel",
            "_view_count": null,
            "_view_module": "@jupyter-widgets/controls",
            "_view_module_version": "1.5.0",
            "_view_name": "VBoxView",
            "box_style": "",
            "children": [
              "IPY_MODEL_ca5e8417cabe4dbaad6763a67c455764",
              "IPY_MODEL_591318c914d9430a8c14cf0025a57caf",
              "IPY_MODEL_62f874aa98b34233af3295f17a61bf9a",
              "IPY_MODEL_905ebe0f71724224acec366ea21487d2",
              "IPY_MODEL_29e45896608f4163815bad8ecdde1b8b"
            ],
            "layout": "IPY_MODEL_5f49c9eeda624f3cbbdac2106170e11a"
          }
        },
        "f390cc0f4ec14e90a19f153f9d0b1ea8": {
          "model_module": "@jupyter-widgets/controls",
          "model_module_version": "1.5.0",
          "model_name": "HTMLModel",
          "state": {
            "_dom_classes": [],
            "_model_module": "@jupyter-widgets/controls",
            "_model_module_version": "1.5.0",
            "_model_name": "HTMLModel",
            "_view_count": null,
            "_view_module": "@jupyter-widgets/controls",
            "_view_module_version": "1.5.0",
            "_view_name": "HTMLView",
            "description": "",
            "description_tooltip": null,
            "layout": "IPY_MODEL_01c51bda5ddc4229b9c50509ed1ccb2f",
            "placeholder": "​",
            "style": "IPY_MODEL_85a3809a91ec409ba2d2d391ec4ca935",
            "value": "<div style='font-size:16px; font-weight:bold; color:#444;'>P2area</div>"
          }
        },
        "f4219c437ee848b39bd3320882af1b83": {
          "model_module": "@jupyter-widgets/controls",
          "model_module_version": "1.5.0",
          "model_name": "SliderStyleModel",
          "state": {
            "_model_module": "@jupyter-widgets/controls",
            "_model_module_version": "1.5.0",
            "_model_name": "SliderStyleModel",
            "_view_count": null,
            "_view_module": "@jupyter-widgets/base",
            "_view_module_version": "1.2.0",
            "_view_name": "StyleView",
            "description_width": "initial",
            "handle_color": null
          }
        },
        "fd8b80e5836d4ec597d57d3e08de8f8a": {
          "model_module": "@jupyter-widgets/base",
          "model_module_version": "1.2.0",
          "model_name": "LayoutModel",
          "state": {
            "_model_module": "@jupyter-widgets/base",
            "_model_module_version": "1.2.0",
            "_model_name": "LayoutModel",
            "_view_count": null,
            "_view_module": "@jupyter-widgets/base",
            "_view_module_version": "1.2.0",
            "_view_name": "LayoutView",
            "align_content": null,
            "align_items": null,
            "align_self": null,
            "border": null,
            "bottom": null,
            "display": null,
            "flex": null,
            "flex_flow": null,
            "grid_area": null,
            "grid_auto_columns": null,
            "grid_auto_flow": null,
            "grid_auto_rows": null,
            "grid_column": null,
            "grid_gap": null,
            "grid_row": null,
            "grid_template_areas": null,
            "grid_template_columns": null,
            "grid_template_rows": null,
            "height": null,
            "justify_content": null,
            "justify_items": null,
            "left": null,
            "margin": null,
            "max_height": null,
            "max_width": null,
            "min_height": null,
            "min_width": null,
            "object_fit": null,
            "object_position": null,
            "order": null,
            "overflow": null,
            "overflow_x": null,
            "overflow_y": null,
            "padding": null,
            "right": null,
            "top": null,
            "visibility": null,
            "width": null
          }
        }
      }
    }
  },
  "nbformat": 4,
  "nbformat_minor": 0
}
